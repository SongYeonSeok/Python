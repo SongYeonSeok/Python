{
  "nbformat": 4,
  "nbformat_minor": 0,
  "metadata": {
    "colab": {
      "name": "pandas_tutorial.ipynb",
      "provenance": [],
      "collapsed_sections": [],
      "toc_visible": true,
      "authorship_tag": "ABX9TyMFwQK69aacXgPRvpm80YQb",
      "include_colab_link": true
    },
    "kernelspec": {
      "name": "python3",
      "display_name": "Python 3"
    },
    "language_info": {
      "name": "python"
    }
  },
  "cells": [
    {
      "cell_type": "markdown",
      "metadata": {
        "id": "view-in-github",
        "colab_type": "text"
      },
      "source": [
        "<a href=\"https://colab.research.google.com/github/SongYeonSeok/Python/blob/main/pandas_tutorial.ipynb\" target=\"_parent\"><img src=\"https://colab.research.google.com/assets/colab-badge.svg\" alt=\"Open In Colab\"/></a>"
      ]
    },
    {
      "cell_type": "markdown",
      "metadata": {
        "id": "ulqsYXHElGpu"
      },
      "source": [
        "# Pandas Tutorial\n",
        "\n",
        "Pandas is a Python library.\n",
        "Pandas is used to analyze data.\n",
        "\n",
        "- Index\n",
        "\n",
        "    * basic\n",
        "        - Introduction\n",
        "        - Getting Started\n",
        "        - Pandas Series\n",
        "        - DataFrames\n",
        "        - Read CSV\n",
        "        - Read JSON\n",
        "        - Analyze Data\n",
        "\n",
        "    * Cleaning Data\n",
        "        - Clean Data\n",
        "        - Clean Empty Cells\n",
        "        - Clean Wrong Format\n",
        "        - Clean Wrong Data\n",
        "        - REmove Duplicates\n",
        "\n",
        "    * Advanced\n",
        "        * Corrections\n",
        "        * Plotting"
      ]
    },
    {
      "cell_type": "markdown",
      "metadata": {
        "id": "Hg2Uzp6AmR1B"
      },
      "source": [
        "## Introduction\n",
        "\n",
        "* What is Pandas?\n",
        "    - That is a Python library used to working with data sets.\n",
        "    - It has functions for **analyzing, cleaning, exploring, and manipulating** data.\n",
        "    - The name \"Pandas\" has a reference to both \"Penel Data\", and \"Python Data Analysis\" and was created by Wes McKinney in 2008.\n",
        "\n",
        "* Why Use Pandas?\n",
        "    - Pandas allows us to analyze big data and make conclusions based on statistical theories.\n",
        "    - Pandas can clean messy data sets, and make them readable and relevant.\n",
        "        - relevant : 적절하게\n",
        "    - Relevant data is very important in data science!\n",
        "\n",
        "    > **Data Science** : is a branch of computer science where we study how to store, use and analyze data for deriving information from it.\n",
        "\n",
        "* What Can Pandas Do?\n",
        "    - Pandas gives you answers about thd data.\n",
        "        - Is there a correlation between two or more columns?\n",
        "        - What is average value?\n",
        "        - Max value?\n",
        "        - Min value?\n",
        "    \n",
        "    - Pandas are also able to delete rows that are not relevent, or contains wrong values, like empty or NULL values. This is called *cleaning* the data.\n",
        "\n",
        "* Where is the Pandas Codebase?\n",
        "    - The source code for Pandas is located at this github repository https://github.com/pandas-dev/pandas"
      ]
    },
    {
      "cell_type": "markdown",
      "metadata": {
        "id": "AsLs0ohen3LV"
      },
      "source": [
        "## Getting Started\n",
        "\n",
        "* Installatin of Pandas\n",
        "    * If you have *Python* and *PIP* already installed on a system, then installation of Pandas is very easy.\n",
        "\n",
        "    * Install it using this command:\n",
        "\n",
        "    ```\n",
        "    C:\\Users\\Your Name>pip install pandas\n",
        "    ```\n",
        "\n",
        "    * If this command fails, then use a python distribution that already has Pandas installed like, Anaconda, Spyder, etc.\n",
        "\n",
        "* Import Pandas\n",
        "    * Once Pandas is installed, import it in your applications by adding the ```import``` keyword:\n",
        "    ```\n",
        "    import pandas\n",
        "    ```\n",
        "\n",
        "    * Now Pandas is *import*ed and ready to use"
      ]
    },
    {
      "cell_type": "markdown",
      "metadata": {
        "id": "mzuYX_Quo_8V"
      },
      "source": [
        "* Pandas as pd\n",
        "    * Pandas is usually imported under the ```pd``` alias.\n",
        "        - alias : 별칭\n",
        "\n",
        "    > alies : In Python alias are an altermate name for refering to the same thing.\n",
        "\n",
        "    * Created an alias with the ```as``` keyword while importing.\n",
        "    ```\n",
        "    import pandas as pd\n",
        "    ```\n",
        "\n",
        "    * Now the Pandas package can be referred to as ```pd``` instead of ```pandas```."
      ]
    },
    {
      "cell_type": "code",
      "metadata": {
        "id": "J-hxkyO2pEqj",
        "colab": {
          "base_uri": "https://localhost:8080/"
        },
        "outputId": "033912e4-789c-4a5a-fff6-3d7f36905f82"
      },
      "source": [
        "# example.py\n",
        "import pandas as pd\n",
        "\n",
        "mydataset = {\n",
        "    'cars' : ['BMW', 'Volvo', 'Ford'],\n",
        "    'passings' : [3, 7, 2]\n",
        "}\n",
        "\n",
        "myvar = pd.DataFrame(mydataset)\n",
        "print(myvar)"
      ],
      "execution_count": 2,
      "outputs": [
        {
          "output_type": "stream",
          "name": "stdout",
          "text": [
            "    cars  passings\n",
            "0    BMW         3\n",
            "1  Volvo         7\n",
            "2   Ford         2\n"
          ]
        }
      ]
    },
    {
      "cell_type": "markdown",
      "metadata": {
        "id": "wz723H5zpakJ"
      },
      "source": [
        "* Checking Pandas Version\n",
        "    - The version string is stored under ```__version__``` attribute."
      ]
    },
    {
      "cell_type": "code",
      "metadata": {
        "colab": {
          "base_uri": "https://localhost:8080/"
        },
        "id": "x58kPaPTphFS",
        "outputId": "4b6c4b2d-bfa4-4400-cfa4-5321a82281a5"
      },
      "source": [
        "# example.py\n",
        "import pandas as pd\n",
        "print(pd.__version__)"
      ],
      "execution_count": 3,
      "outputs": [
        {
          "output_type": "stream",
          "name": "stdout",
          "text": [
            "1.1.5\n"
          ]
        }
      ]
    }
  ]
}
{
  "nbformat": 4,
  "nbformat_minor": 0,
  "metadata": {
    "colab": {
      "name": "객체 지향 프로그래밍이란.ipynb",
      "provenance": [],
      "collapsed_sections": [],
      "authorship_tag": "ABX9TyM7ZxJIGoOWjp1fcKat+uKi",
      "include_colab_link": true
    },
    "kernelspec": {
      "name": "python3",
      "display_name": "Python 3"
    },
    "language_info": {
      "name": "python"
    }
  },
  "cells": [
    {
      "cell_type": "markdown",
      "metadata": {
        "id": "view-in-github",
        "colab_type": "text"
      },
      "source": [
        "<a href=\"https://colab.research.google.com/github/SongYeonSeok/Python/blob/main/%EA%B0%9D%EC%B2%B4_%EC%A7%80%ED%96%A5_%ED%94%84%EB%A1%9C%EA%B7%B8%EB%9E%98%EB%B0%8D%EC%9D%B4%EB%9E%80.ipynb\" target=\"_parent\"><img src=\"https://colab.research.google.com/assets/colab-badge.svg\" alt=\"Open In Colab\"/></a>"
      ]
    },
    {
      "cell_type": "markdown",
      "metadata": {
        "id": "yWXVFwv7iWpX"
      },
      "source": [
        "# 목차\n",
        "- 이 문서는 코드잇의 \"객체 지향 프로그래밍 with Python\"의 필기 노트이다.\n",
        "\n",
        "```\n",
        "1. 객체 지향 프로그래밍 시작하기\n",
        "2. 객체를 만드는 법\n",
        "3. 미리 알고 가야 할 것들\n",
        "4. 객체 만들기 연습\n",
        "5. 객체 지향 프로그래밍 직접 해보기\n",
        "```"
      ]
    },
    {
      "cell_type": "markdown",
      "metadata": {
        "id": "lpmkQ-Huiee3"
      },
      "source": [
        "## 1. 객체 지향 프로그래밍 시작하기\n",
        "\n",
        "```\n",
        "- 객체란?\n",
        "- 객체 지향 프로그래밍이란?\n",
        "- Pycharm 설치하기\n",
        "- \"객체 지향 프로그래밍\" 수강 가이드\n",
        "```"
      ]
    },
    {
      "cell_type": "markdown",
      "metadata": {
        "id": "PKmy8AJKjHFK"
      },
      "source": [
        "### 객체란?\n",
        "\n",
        "- 속성과 행동으로 이루어진 존재\n",
        "\n",
        "- 현실에 존재하든, 가상으로 존재하든 속성과 행동을 떠올릴 수 있다면 모두 객체이다."
      ]
    },
    {
      "cell_type": "markdown",
      "metadata": {
        "id": "MaNSrgaQjJJn"
      },
      "source": [
        "### 객체 지향 프로그래밍이란?\n",
        "\n",
        "- 프로그램을 여러 개의 독립된 **객체들과 그 객체들 간의 상호작용**으로 파악하는 프로그래밍 접근법이다.\n",
        "\n",
        "- 객체 지향 프로그래밍 = 프로그램을 **객체들과 객체들 간의 소통**으로 바라보는 것\n",
        "\n",
        "- 객체지향적으로 설계 = 모델링(Modeling)\n",
        "    - 객체 지향 프로그래밍으로 프로그래밍을 만드려면?\n",
        "        1. 프로그램에 어떤 객체들이 필요할지 정한다.\n",
        "        2. 객체들의 속성과 행동을 정한다.\n",
        "        3. 객체들이 서로 어떻게 소통할지 정한다."
      ]
    },
    {
      "cell_type": "markdown",
      "metadata": {
        "id": "HysYzN5xjKwR"
      },
      "source": [
        "### '객체 지향 프로그래밍' 수강 가이드\n",
        "\n",
        "1. 객체 지향 프로그래밍이란?\n",
        "    > 객체 지향 프로그래밍을 위한 준비\n",
        "\n",
        "    * 객체 지향 프로그래밍이 무엇이고 왜 중요한지를 알아가는 시간이다.\n",
        "    * 객체와 클래스의 개념을 이해하고 파이썬에서 클래스를 어떻게 정의하고 사용하는지를 공부한다.\n",
        "\n",
        "    ```\n",
        "    Chapter 1 : 객체 지향 프로그래밍 시작하기\n",
        "    Chapter 2 : 객체를 만드는 법\n",
        "    Chapter 3 : 미리 알고가야 할 것들\n",
        "    Chapter 4 : 객체 만들기 연습\n",
        "    Chapter 5 : 객체 지향 프로그래밍 직접 해보기\n",
        "    ```\n",
        "\n",
        "2. 객체 지향 프로그래밍의 4가지 기둥\n",
        "    > 객체 지향 프로그래밍을 하기 위한 필수 개념 익히기!\n",
        "\n",
        "    * 객체 지향 프로그래밍을 하기 위해 꼭 알아야할 4가지 개념을 배우고 실습\n",
        "\n",
        "    ```\n",
        "    Chapter 1 : 추상화(Abstraction)\n",
        "    Chapter 2 : 캠슐화(Encapsulation)\n",
        "    Chapter 3 : 상속(Inheritance)\n",
        "    Chapter 4 : 다형성(Polymorphism)\n",
        "    ```\n",
        "\n",
        "3. 견고한 객체 지향 프로그래밍 : SOLID 원칙\n",
        "    > 유지보수하기 쉬운 코드를 만들자!\n",
        "\n",
        "    * 객체 지향 프로그래밍을 할 때 어떻게 유지보수하기 쉬운 코드를 만들 수 있는지를 알아야 합니다.\n",
        "    * 이를 위한 대표적인 객체 설계의 원칙 5가지를 설명합니다.\n",
        "\n",
        "    ```\n",
        "    Chapter 1 : 단일 책임 원칙 (Single Responsibility Principle)\n",
        "    Chapter 2 : 개발 폐쇄 원칙 (Open-closed Principle)\n",
        "    Chapter 3 : 리스코프 치환 원칙 (Liskov Substituiton Principle)\n",
        "    Chapter 4 : 의존 관계 역전 원칙 (Dependency Inversion Principle)\n",
        "    ```"
      ]
    },
    {
      "cell_type": "markdown",
      "metadata": {
        "id": "juKwudcEigEs"
      },
      "source": [
        "## 2. 객체를 만드는 법\n",
        "\n",
        "```\n",
        "- 클래스와 인스턴스\n",
        "- 인스턴스 변수\n",
        "- 인스턴스 메소드\n",
        "- 인스턴스 메소드의 특별한 규칙\n",
        "- self를 사용합시다.\n",
        "- 인스턴스 변수와 같은 이름을 갖는 파라미터\n",
        "- initialize 메소드\n",
        "- __init__ 메소드\n",
        "- # 맞팔해요\n",
        "- __str__ 메소드\n",
        "- 클래스 변수\n",
        "- 여기서 잠깐! 데코레이터\n",
        "- 클래스 메소드\n",
        "- 클래스 메소드 활용\n",
        "- 정적 메소드\n",
        "- 객체를 만드는 법\n",
        "```"
      ]
    },
    {
      "cell_type": "markdown",
      "metadata": {
        "id": "_3tmvjeEoapL"
      },
      "source": [
        "### 클래스와 인스턴스\n",
        "\n",
        "* 객체를 만드려면? ex) User\n",
        "    * 객체 = 속성 + 행동\n",
        "\n",
        "    ```\n",
        "    User의 속성 : 이름, 이메일 주소, 비밀번호, 팔로우 목록, 팔로워 목록)\n",
        "    User의 행동(자기 소개하기, 팔로우하기)\n",
        "\n",
        "    이 과정을 완성한다면 User 객체의 틀을 완성했다고 말할 수 있다.\n",
        "    ```\n",
        "\n",
        "* 앞으로 유저 객체를 만들 때, 이러한 객체의 틀을 가지고 만들면 된다. 즉, 객체의 틀이 있다면 객체를 만들 수 있다.\n",
        "    - 마치 새로운 붕어빵을 만들고 싶을 때 붕어빵을 만들 수 있는 틀을 가지고 만드는 것과 같다.\n",
        "\n",
        "* 이러한 객체의 틀을 **클래스**라고 한다. 클래스를 통해서 만든 것을 **객체**라고 한다.\n",
        "\n",
        "* 클래스로 객체를 만든다 vs 클래스로 인스턴스를 만든다?\n",
        "    * 객체와 인스턴스에 큰 차이가 없기 때문에 \n",
        "    ```객체 = 인스턴스```라고 말할 수 있다.\n",
        "    * 즉, 클래스로 여러 객체 또는 여러 인스턴스를 만들 수 있다고 생각하면 된다."
      ]
    },
    {
      "cell_type": "code",
      "metadata": {
        "id": "wbRrTXu2p7Ux"
      },
      "source": [
        "# class_instance.py\n",
        "\n",
        "class User:         # 클래스 이름 첫 글자는 항상 대문자로 써줘야 한다 (규칙)\n",
        "    pass            # 내용 작성\n",
        "                    # pass : 내용이 아무것도 없다는 의미.\n",
        "                    # class 선언 후 아무 내용이 없으면 에러 발생\n",
        "\n",
        "# 객체, 인스턴스 생성 가능\n",
        "user1 = User()      # 유저 인스턴스 생성됨\n",
        "user2 = User()\n",
        "user3 = User()      # user1, user2, user3 : 서로 다른 존재(인스턴스)이다. "
      ],
      "execution_count": null,
      "outputs": []
    },
    {
      "cell_type": "markdown",
      "metadata": {
        "id": "BpHVfXENob9t"
      },
      "source": [
        "### 인스턴스 변수\n",
        "\n",
        "* 인스턴스 변수 정의하기 (변수 정의와 같다)\n",
        "\n",
        "```\n",
        "인스턴스 이름.속성이름(인스턴스 변수)= \"속성에 넣을 값\"\n",
        "user1.name = \"김대위\"\n",
        "```\n",
        "\n",
        "* 서로 다른 객체에서 같은 속성이라도 객체마다 속성이 다르다. 이는 각자의 객체에 개인적으로 가지는 것인데 이를 **인스턴스 변수**라고 한다.\n",
        "    * 아래의 예시를 보면 인스턴스 변수는 name, email, password이다.\n",
        "\n",
        "* 인스턴스 변수 사용하기\n",
        "\n",
        "```\n",
        "인스턴스 이름.인스턴스 변수 이름\n",
        "user1.email\n",
        "```\n",
        "\n",
        "* 추가하지 않은 인스턴스를 사용한다면?\n",
        "\n",
        "```\n",
        "# user1 인스턴스 : name, email, password\n",
        "print(user1.age)    \n",
        "```\n",
        "\n",
        "```\n",
        "# 결과 : 에러\n",
        "AttributeError : 'User' object has no attribute 'age'\n",
        "```\n",
        "\n",
        "* 따라서 인스턴스 변수를 사용하려면 **꼭! 그 전에 미리 정의해 놔야 합니다!**"
      ]
    },
    {
      "cell_type": "code",
      "metadata": {
        "colab": {
          "base_uri": "https://localhost:8080/"
        },
        "id": "J8h7qedPqq5F",
        "outputId": "dfd4a40c-cfe6-4991-f1aa-a12561591d2c"
      },
      "source": [
        "# class_instance.py\n",
        "\n",
        "class User:         \n",
        "    pass            \n",
        "                    \n",
        "                    \n",
        "# 객체, 인스턴스 생성 가능\n",
        "user1 = User()      \n",
        "user2 = User()\n",
        "user3 = User()     \n",
        "\n",
        "\n",
        "# 속성 추가 방법\n",
        "user1.name = \"김대위\"       # user1 인스턴스에 \"김대위\"라는 문자열의 이름 속성을 정의함\n",
        "user1.email = \"captain@codeit.kr\"\n",
        "user1.password = \"12345\"     # 이름, 이메일, 암호를 정의함\n",
        "\n",
        "# user2, user3에도 속성 추가 가능\n",
        "user2.name = \"강영훈\"\n",
        "user2.email = \"younghoon@codeit.kr\"\n",
        "user2.password = \"98765\"\n",
        "\n",
        "user3.name = \"최지웅\"\n",
        "user3.email = \"jiwoong@codeit.kr\"\n",
        "user3.password = \"78945\"    \n",
        "# 같은 속성이라도, 객체마다 속성이 다르다 -> 각자 개인적으로 가짐\n",
        "\n",
        "# 인스턴스 사용하기\n",
        "print(user1.email)\n",
        "print(user2.password)\n",
        "\n",
        "# 추가하지 않은 인스턴스를 사용한다면?\n",
        "#print(user1.age)        # AttributeError : 'User' object has no attribute 'age'"
      ],
      "execution_count": 6,
      "outputs": [
        {
          "output_type": "stream",
          "name": "stdout",
          "text": [
            "captain@codeit.kr\n",
            "98765\n"
          ]
        }
      ]
    },
    {
      "cell_type": "markdown",
      "metadata": {
        "id": "tDRwYNzXocpw"
      },
      "source": [
        "###인스턴스 메소드\n",
        "\n",
        "* 객체 = 속성 + 행동\n",
        "    * 파이썬에서의 속성 -> 변수(instance)로 나타냄\n",
        "    * 파이썬에서의 행동 -> 함수(function)로 나타냄\n",
        "        * 이러한 함수를 메서드라고 부른다.\n",
        "        * 객체의 행동을 구현했다 = 메서드를 구현했다\n",
        "\n",
        "* 메소드의 종류\n",
        "    1. 인스턴스 메소드\n",
        "        : 인스턴스 변수를 사용하거나, 인스턴스 변수에 값을 설정하는 메소드\n",
        "\n",
        "        * 인스턴스 메소드 사용법\n",
        "        ```\n",
        "        클래스 이름.인스턴스 메서드 이름(인스턴스 파라미터)\n",
        "        User.say_hello(user1)\n",
        "        ```\n",
        "\n",
        "    2. 클래스 메소드\n",
        "    3. 정적 메소드"
      ]
    },
    {
      "cell_type": "code",
      "metadata": {
        "colab": {
          "base_uri": "https://localhost:8080/"
        },
        "id": "_nw_JJUdsuvx",
        "outputId": "061ac464-f6b8-4b61-faaf-64efdfb297d8"
      },
      "source": [
        "# class_instance.py\n",
        "\n",
        "class User:         \n",
        "    def say_hello(some_user):\n",
        "        # 인사 메세지 출력 메소드\n",
        "        print(f\"안녕하세요! 저는 {some_user.name}입니다!\")  \n",
        "        \n",
        "        # some_user 파라미터를 받음 -> user1, user2, user3 입력\n",
        "        # 인사 메시지 출력\n",
        "        # say_hello는 인스턴스의 name 속성을 사용한다. \n",
        "        # say_hello는 인스턴스 메소드라고 할 수 있다.\n",
        "                    \n",
        "                    \n",
        "user1 = User()      \n",
        "user2 = User()\n",
        "user3 = User()     \n",
        "\n",
        "\n",
        "# 속성 추가 방법\n",
        "user1.name = \"김대위\"       \n",
        "user1.email = \"captain@codeit.kr\"\n",
        "user1.password = \"12345\"     \n",
        "\n",
        "user2.name = \"강영훈\"\n",
        "user2.email = \"younghoon@codeit.kr\"\n",
        "user2.password = \"98765\"\n",
        "\n",
        "user3.name = \"최지웅\"\n",
        "user3.email = \"jiwoong@codeit.kr\"\n",
        "user3.password = \"78945\"    \n",
        "\n",
        "\n",
        "# 인스턴스 메서드 사용\n",
        "User.say_hello(user1)\n",
        "User.say_hello(user2)\n",
        "User.say_hello(user3)"
      ],
      "execution_count": 7,
      "outputs": [
        {
          "output_type": "stream",
          "name": "stdout",
          "text": [
            "안녕하세요! 저는 김대위입니다!\n",
            "안녕하세요! 저는 강영훈입니다!\n",
            "안녕하세요! 저는 최지웅입니다!\n"
          ]
        }
      ]
    },
    {
      "cell_type": "markdown",
      "metadata": {
        "id": "w_9DOy3EodOc"
      },
      "source": [
        "###인스턴스 메소드의 특별한 규칙\n",
        "* 인스턴스 메소드 사용하기\n",
        "```\n",
        "인스턴스 이름.메소드 이름()\n",
        "```\n",
        "    * 에러가 나지 않는 이유 : 인스턴스 메소드의 **특별한 규칙** 때문\n",
        "\n",
        "    * 예시\n",
        "    \n",
        "    ```\n",
        "    User.say_hello(user1)   # 클래스 사용\n",
        "    user.say_hello()        # 인스턴스 이름 사용\n",
        "    \n",
        "    # 사실상 같다고 생각하면 된다.\n",
        "\n",
        "    # 파라미터를 넣는다면?\n",
        "    user1.say_hello(user1)\n",
        "    ```\n",
        "\n",
        "    ```\n",
        "    # 에러 발생\n",
        "    TypeError : say_hello() takes 1 positional argument but 2 were given\n",
        "\n",
        "    # say_hello()는 하나의 파라미터를 받는데, 2개를 넘겨줬다는 의미 -> 에러 발생 이유\n",
        "    ```\n",
        "\n",
        "    ```\n",
        "    # 이것은 같은 것이다. (에러 발생 이유 쉽게 이해 가능)\n",
        "    User.say_hello(user1, user1)\n",
        "    user1.say_hello(user1)\n",
        "    ```\n"
      ]
    },
    {
      "cell_type": "code",
      "metadata": {
        "colab": {
          "base_uri": "https://localhost:8080/",
          "height": 241
        },
        "id": "DHOgaho_uglW",
        "outputId": "348a26c2-1009-467c-c328-4793ba5faa6b"
      },
      "source": [
        "# class_instance.py\n",
        "\n",
        "class User:         \n",
        "    def say_hello(some_user):\n",
        "        # 인사 메시지 출력 메소드\n",
        "        print(f\"안녕하세요! 저는 {some_user.name}입니다!\")  \n",
        "                    \n",
        "user1 = User()      \n",
        "user2 = User()\n",
        "user3 = User()     \n",
        "\n",
        "\n",
        "# 속성 추가 방법\n",
        "user1.name = \"김대위\"       \n",
        "user1.email = \"captain@codeit.kr\"\n",
        "user1.password = \"12345\"     \n",
        "\n",
        "user2.name = \"강영훈\"\n",
        "user2.email = \"younghoon@codeit.kr\"\n",
        "user2.password = \"98765\"\n",
        "\n",
        "user3.name = \"최지웅\"\n",
        "user3.email = \"jiwoong@codeit.kr\"\n",
        "user3.password = \"78945\"    \n",
        "\n",
        "\n",
        "User.say_hello(user1)\n",
        "user1.say_hello()\n",
        "\n",
        "# 인스턴스 특별 규칙에서 파라미터를 넣는다면?\n",
        "#user1.say_hello(user1)     \n",
        "# TypeError : say_hello() takes 1 positional argument but 2 were given"
      ],
      "execution_count": 9,
      "outputs": [
        {
          "output_type": "stream",
          "name": "stdout",
          "text": [
            "안녕하세요! 저는 김대위입니다!\n",
            "안녕하세요! 저는 김대위입니다!\n"
          ]
        },
        {
          "output_type": "error",
          "ename": "TypeError",
          "evalue": "ignored",
          "traceback": [
            "\u001b[0;31m---------------------------------------------------------------------------\u001b[0m",
            "\u001b[0;31mTypeError\u001b[0m                                 Traceback (most recent call last)",
            "\u001b[0;32m<ipython-input-9-7972bed1d16c>\u001b[0m in \u001b[0;36m<module>\u001b[0;34m()\u001b[0m\n\u001b[1;32m     28\u001b[0m \u001b[0;34m\u001b[0m\u001b[0m\n\u001b[1;32m     29\u001b[0m \u001b[0;31m# 인스턴스 특별 규칙에서 파라미터를 넣는다면?\u001b[0m\u001b[0;34m\u001b[0m\u001b[0;34m\u001b[0m\u001b[0;34m\u001b[0m\u001b[0m\n\u001b[0;32m---> 30\u001b[0;31m \u001b[0muser1\u001b[0m\u001b[0;34m.\u001b[0m\u001b[0msay_hello\u001b[0m\u001b[0;34m(\u001b[0m\u001b[0muser1\u001b[0m\u001b[0;34m)\u001b[0m\u001b[0;34m\u001b[0m\u001b[0;34m\u001b[0m\u001b[0m\n\u001b[0m",
            "\u001b[0;31mTypeError\u001b[0m: say_hello() takes 1 positional argument but 2 were given"
          ]
        }
      ]
    },
    {
      "cell_type": "code",
      "metadata": {
        "colab": {
          "base_uri": "https://localhost:8080/",
          "height": 223
        },
        "id": "aTLycokOv5Vl",
        "outputId": "3b7df620-128c-4758-a3f3-fb6a12848001"
      },
      "source": [
        "class User:\n",
        "    def say_hello(some_user):\n",
        "        # 인사 메시지 출력 메소드\n",
        "        print(f\"안녕하세요! 저는 {some_user.name}입니다.\")\n",
        "\n",
        "    def login(some_user, my_email, my_password):\n",
        "        # 로그인 메소드\n",
        "        if (some_user.email == my_email and some_user.password == my_password):\n",
        "            print(\"로그인 성공, 환영합니다.\")\n",
        "        else:\n",
        "            print(\"로그인 실패, 없는 아이디이거나 잘못된 비밀번호입니다.\")\n",
        "\n",
        "        \n",
        "user1 = User()\n",
        "\n",
        "user1.name = \"김대위\"\n",
        "user1.email = \"captain@codeit.kr\"\n",
        "user1.password = \"12345\"\n",
        "\n",
        "# 로그인 메서드 실행\n",
        "user1.login(user1, \"captain@codeit.kr\", \"12345\")    # 잘못된 메서드 호출 방법\n",
        "user1.login(\"captain@codeit.kr\", \"12345\")           # 정답\n",
        "\n",
        "    # 이렇게 된 이유 : user1의 파라미터는 입력하지 않아도 \n",
        "    # 첫번째 파라미터로 자동으로 입력되기 때문"
      ],
      "execution_count": 10,
      "outputs": [
        {
          "output_type": "error",
          "ename": "TypeError",
          "evalue": "ignored",
          "traceback": [
            "\u001b[0;31m---------------------------------------------------------------------------\u001b[0m",
            "\u001b[0;31mTypeError\u001b[0m                                 Traceback (most recent call last)",
            "\u001b[0;32m<ipython-input-10-db00df8c4700>\u001b[0m in \u001b[0;36m<module>\u001b[0;34m()\u001b[0m\n\u001b[1;32m     19\u001b[0m \u001b[0;34m\u001b[0m\u001b[0m\n\u001b[1;32m     20\u001b[0m \u001b[0;31m# 로그인 메서드 실행\u001b[0m\u001b[0;34m\u001b[0m\u001b[0;34m\u001b[0m\u001b[0;34m\u001b[0m\u001b[0m\n\u001b[0;32m---> 21\u001b[0;31m \u001b[0muser1\u001b[0m\u001b[0;34m.\u001b[0m\u001b[0mlogin\u001b[0m\u001b[0;34m(\u001b[0m\u001b[0muser1\u001b[0m\u001b[0;34m,\u001b[0m \u001b[0;34m\"captain@codeit.kr\"\u001b[0m\u001b[0;34m,\u001b[0m \u001b[0;34m\"12345\"\u001b[0m\u001b[0;34m)\u001b[0m\u001b[0;34m\u001b[0m\u001b[0;34m\u001b[0m\u001b[0m\n\u001b[0m\u001b[1;32m     22\u001b[0m \u001b[0muser1\u001b[0m\u001b[0;34m.\u001b[0m\u001b[0mlogin\u001b[0m\u001b[0;34m(\u001b[0m\u001b[0;34m\"captain@codeit.kr\"\u001b[0m\u001b[0;34m,\u001b[0m \u001b[0;34m\"12345\"\u001b[0m\u001b[0;34m)\u001b[0m\u001b[0;34m\u001b[0m\u001b[0;34m\u001b[0m\u001b[0m\n",
            "\u001b[0;31mTypeError\u001b[0m: login() takes 3 positional arguments but 4 were given"
          ]
        }
      ]
    },
    {
      "cell_type": "markdown",
      "metadata": {
        "id": "1iuTlWkKoff6"
      },
      "source": [
        "### self를 사용합시다.\n",
        "\n",
        "* 파이썬에서는 instanc의 메서드의 첫번째 파라미터의 이름을 self로 쓰도록 권장한다.\n",
        "\n",
        "* 첫번째 파라미터의 이름을 self 말고 다른 이름으로 지정해도 문법상 오류가 있거나 동작이 안되는 것은 아니다.\n",
        "\n",
        "    * 하지만, 파이썬에서 인스턴스 메소드의 특별한 규칙으로 반드시 지키는 것이 좋다.\n",
        "\n",
        "* 결론 : 첫 번째 파라미터는 self를 써라."
      ]
    },
    {
      "cell_type": "code",
      "metadata": {
        "colab": {
          "base_uri": "https://localhost:8080/"
        },
        "id": "jy-PLjOCw93y",
        "outputId": "6b54011a-b198-4db4-b740-6f15287a7bcb"
      },
      "source": [
        "class User:\n",
        "    def say_hello(self):\n",
        "        # 인사 메시지 출력 메소드\n",
        "        print(f\"안녕하세요! 저는 {self.name}입니다.\")\n",
        "\n",
        "    def login(self, my_email, my_password):\n",
        "        # 로그인 메소드\n",
        "        if (self.email == my_email and self.password == my_password):\n",
        "            print(\"로그인 성공, 환영합니다.\")\n",
        "        else:\n",
        "            print(\"로그인 실패, 없는 아이디이거나 잘못된 비밀번호입니다.\")\n",
        "\n",
        "        \n",
        "user1 = User()\n",
        "\n",
        "user1.name = \"김대위\"\n",
        "user1.email = \"captain@codeit.kr\"\n",
        "user1.password = \"12345\"\n",
        "\n",
        "# 로그인 메서드 실행\n",
        "user1.login(\"captain@codeit.kr\", \"12345\") \n"
      ],
      "execution_count": 11,
      "outputs": [
        {
          "output_type": "stream",
          "name": "stdout",
          "text": [
            "로그인 성공, 환영합니다.\n"
          ]
        }
      ]
    },
    {
      "cell_type": "markdown",
      "metadata": {
        "id": "7CAOZn-mogvk"
      },
      "source": [
        "### 인스턴스 변수와 같은 이름을 갖는 파라미터\n",
        "\n",
        "* 참고 : 메서드와 함수의 구분\n",
        "    * 클래스 내에 정의된 함수 = 메서드\n",
        "    * 클래스 밖에 정의된 함수 = 함수\n",
        "    * 즉, 함수는 메서드의 superset이다."
      ]
    },
    {
      "cell_type": "code",
      "metadata": {
        "colab": {
          "base_uri": "https://localhost:8080/"
        },
        "id": "_N97Ep8Ex_s9",
        "outputId": "1017ca3b-f5db-47db-9d8a-e32aa84a42a1"
      },
      "source": [
        "class User:\n",
        "    def say_hello(self):\n",
        "        # 인사 메시지 출력 메소드\n",
        "        print(f\"안녕하세요! 저는 {self.name}입니다.\")\n",
        "\n",
        "    def login(self, my_email, my_pw):\n",
        "        # 로그인 메소드\n",
        "        if (self.email == my_email and self.pw == my_pw):\n",
        "            print(\"로그인 성공, 환영합니다.\")\n",
        "        else:\n",
        "            print(\"로그인 실패, 없는 아이디이거나 잘못된 비밀번호입니다.\")\n",
        "\n",
        "    def check_name(self, name):\n",
        "        # 파라미터로 받는 name이 유저의 이름과 같은지 불린으로 리턴하는 메서드\n",
        "        return self.name == name\n",
        "\n",
        "\n",
        "user1 = User()\n",
        "user2 = User()\n",
        "\n",
        "user1.name = \"김대위\"\n",
        "user1.email = \"captain@codeit.kr\"\n",
        "user1.pw = \"12345\"\n",
        "\n",
        "user2.name = \"강영훈\"\n",
        "user2.email = \"younghoon@codeit.kr\"\n",
        "user2.pw = \"98765\"\n",
        "\n",
        "\n",
        "print(user1.check_name(\"김대위\"))\n",
        "print(user1.check_name(\"강영훈\"))"
      ],
      "execution_count": 19,
      "outputs": [
        {
          "output_type": "stream",
          "name": "stdout",
          "text": [
            "True\n",
            "False\n"
          ]
        }
      ]
    },
    {
      "cell_type": "markdown",
      "metadata": {
        "id": "k4B6b7bjoi9t"
      },
      "source": [
        "### initialize 메소드 (실습 과제)\n",
        "\n",
        "* 인스턴스 변수는 항상 사융하기 전에 미리 설정해야 합니다.\n",
        "```User``` 클래스의 인스턴스를 4개 만들고 각 인스턴스에 인스턴스 변수를 설정해 봅시다.\n",
        "\n",
        "```\n",
        "class User:\n",
        "    pass\n",
        "\n",
        "user1 = User()\n",
        "user1.name = \"Young\"\n",
        "user1.email = \"young@codeit.kr\"\n",
        "user1.password = \"123456\"\n",
        "    \n",
        "user2 = User()\n",
        "user2.name = \"Yoonsoo\"\n",
        "user2.email = \"yoonsoo@codeit.kr\"\n",
        "user2.password = \"abcdef\"\n",
        "    \n",
        "user3 = User()\n",
        "user3.name = \"Taeho\"\n",
        "user3.email = \"taeho@codeit.kr\"\n",
        "user3.password = \"123abc\"\n",
        "    \n",
        "user4 = User()\n",
        "user4.name = \"Lisa\"\n",
        "user4.email = \"lisa@codeit.kr\"\n",
        "user4.password = \"abc123\"\n",
        "\n",
        "\n",
        "print(user1.name, user1.email, user1.password)\n",
        "print(user2.name, user2.email, user2.password)\n",
        "print(user3.name, user3.email, user3.password)\n",
        "print(user4.name, user4.email, user4.password)\n",
        "```\n",
        "\n",
        "* 실행 결과\n",
        "\n",
        "```\n",
        "Young young@codeit.kr 123456\n",
        "Yoonsoo yoonsoo@codeit.kr abcdef\n",
        "Taeho taeho@codeit.kr 123abc\n",
        "Lisa lisa@codeit.kr abc123\n",
        "```\n",
        "\n",
        "* 그런데 지금 코드의 길이가 너무 깁니다. \n",
        "* 지금처럼 인스턴스 변수를 하나씩 설정하지 않고 인스턴스 변수 전부를 한번에 설정할 수 있는 인스턴스 메소드를 ```User``` 클래스에 정의해봅시다. ```initialize``` 라는 이름으로 인스턴스 메서드를 작성해 보세요."
      ]
    },
    {
      "cell_type": "code",
      "metadata": {
        "id": "KG3dkfTV12YE"
      },
      "source": [
        "# main.py (내 풀이)\n",
        "class User:\n",
        "    # initialize 메소드를 여기 쓰세요\n",
        "    def initialize(self, self_name, self_email, self_password):\n",
        "        self.name = self_name\n",
        "        self.email = self_email\n",
        "        self.password = self_password\n",
        "        print(f\"{self.name} {self.email} {self.password}\")\n",
        "    \n",
        "\n",
        "user1 = User()\n",
        "user1.initialize(\"Young\", \"young@codeit.kr\", \"123456\")\n",
        "\n",
        "user2 = User()\n",
        "user2.initialize(\"Yoonsoo\", \"yoonsoo@codeit.kr\", \"abcdef\")\n",
        "\n",
        "user3 = User()\n",
        "User.initialize(user3, \"Taeho\", \"taeho@codeit.kr\", \"123abc\")\n",
        "\n",
        "user4 = User()\n",
        "User.initialize(user4, \"Lisa\", \"lisa@codeit.kr\", \"abc123\")\n",
        "\n",
        "\n",
        "\n",
        "print(user1.name, user1.email, user1.password)\n",
        "print(user2.name, user2.email, user2.password)\n",
        "print(user3.name, user3.email, user3.password)\n",
        "print(user4.name, user4.email, user4.password)\n"
      ],
      "execution_count": null,
      "outputs": []
    },
    {
      "cell_type": "markdown",
      "metadata": {
        "id": "tU1P4INn16xQ"
      },
      "source": [
        "#### 풀이 (과제 해설)\n",
        "* 과제에서 initialize 메서드를 호출하는 코드를 보면 user1과 user2는 인스턴스를 통해서 인스턴스 메소드를 호출하고 있습니다.\n",
        "\n",
        "* 다음 코드처럼 initialize 메소드를 호출하면\n",
        "```\n",
        "user1.initialize(\"Young\", \"young@codeit.kr\", \"123456\")\n",
        "```\n",
        "\n",
        "* User 클래스의 initialize 메서드가 실행되고, 첫 번째 파라미터인 self로 인스턴스 user1이 자동으로 넘어갑니다.\n",
        "그래서 initialize 메서드를 호출할 때 user1 인스턴스를 직접 넘겨쥦 않아도 됩니다. \n",
        "위 코드처럼 쓰면 \"Young\", \"young@codeit.kr\", \"123456\"이 self 다음에 정의된 2, 3, 4번째 파라미터로 넘어갑니다.\n",
        "\n",
        "* user1, user2와 달리 user3과 user4는 클래스를 통해서 인스턴스 메소드를 호출하고 있습니다.\n",
        "\n",
        "```\n",
        "User.initialize(user3, \"Taeho\", \"taeho@codeit.kr\", \"123abc\")\n",
        "```\n",
        "\n",
        "* 이 코드처럼 클래스를 통해 인스턴스 메소드를 호출할 경우 첫 번째 파라미터로 인스턴스가 자동으로 전달되지 않기 때문에 user3 인스턴스를 첫 번째 파라미터로 직접 넘겨주어야 합니다.\n",
        "\n",
        "* 이 코드를 호출하면 initialize 메소드가 호출되고, 첫 번째 파라미터로 메소드의 호출 대상인 user3 인스턴스, 그리고 \"Taeho\", \"taeho@codeit.kr\", \"123abc\"이 각각 그 다음 파라미터로 넘어갑니다.\n",
        "\n",
        "* 인스턴스 메소드를\n",
        "    * **인스턴스로 호출하는 방법과**\n",
        "    * **클래스로 호출하는 방법**\n",
        "\n",
        "사이에 어떤 차이가 있는지 알겁니다. 그러니까 아래 코드 2줄은 같은 동작을 2가지 방법으로 작성한 것입니다. 의미는 같습니다.\n",
        "\n",
        "```\n",
        "# 인스턴스로 호출하는 방법\n",
        "user1.initialize(\"Young\", \"young@codeit.kr\", \"123456\")\n",
        "\n",
        "# 클래스로 호출하는 방법\n",
        "User.initialize(user1, \"Young\", \"young@codeit.kr\", \"123456\")\n",
        "```\n",
        "\n",
        "* 메소드의 헤더(header) 부분\n",
        "    * initialize 메서드를 정의할 때 파라미터 4개를 정의해야 합니다.\n",
        "    * 첫번째로 메서드를 호출하는 인스턴스가 자동 전달되는 self를 적고 그 다음에는 순서대로 나머지 파라미터들인 name, email, password를 적어야 합니다.\n",
        "    \n",
        "    ```\n",
        "    # initialize 메서드 헤더 부분\n",
        "    class User:\n",
        "        def initialize(self, name, email, password):\n",
        "    ```\n",
        "\n",
        "* 메소드의 바디(body) 부분\n",
        "    * initialize 메소드의 헤더 부분을 완성했으니 이제 바디 부분을 완성해야 한다.\n",
        "    * 바디 부분에서는 파라미터 self를 갖고 인스턴스 변수를 설정하면 된다.\n",
        "        * 바로 이 self로 user1과 같은 인스턴스들이 넘어오는 거니까 user1 인스턴스의 경우에 self.name=name은 user1.name = name과 같은 뜻이 되는 것입니다.\n",
        "\n",
        "        ```\n",
        "        class User:\n",
        "            def initialize(self, name, email, password):\n",
        "                self.name = name\n",
        "        ```\n",
        "\n",
        "        * 같은 방식으로 '이메일'과 '비밀번호'에 해당하는 인스턴스 변수도 설정해봅시다.\n",
        "\n",
        "        ```\n",
        "        class User:\n",
        "            def initialize(self, name, email, password):\n",
        "                self.name = name\n",
        "                self.email = email\n",
        "                self.passwofd = password\n",
        "        ```\n",
        "\n",
        "    * 이렇게 하면 모든 인스턴스 변수를 initialize 메소드로 한 번에 설정할 수 있습니다.\n",
        "\n",
        "\n",
        "* 결과\n",
        "```\n",
        "class User:\n",
        "    def initialize(self, name, email, password):\n",
        "        self.name = name\n",
        "        self.email = email\n",
        "        self.password = password\n",
        "```\n"
      ]
    },
    {
      "cell_type": "code",
      "metadata": {
        "colab": {
          "base_uri": "https://localhost:8080/"
        },
        "id": "mXAPpQ2Z5hst",
        "outputId": "14b19e40-63f1-4fe3-ff53-e79ef931c07a"
      },
      "source": [
        "# main.py (수정된 내 풀이)\n",
        "class User:\n",
        "    def initialize(self, name, email, password):\n",
        "        self.name = name\n",
        "        self.email = email\n",
        "        self.password = password\n",
        "\n",
        "user1 = User()\n",
        "user1.initialize(\"Young\", \"young@codeit.kr\", \"123456\")\n",
        "\n",
        "user2 = User()\n",
        "user2.initialize(\"Yoonsoo\", \"yoonsoo@codeit.kr\", \"abcdef\")\n",
        "\n",
        "user3 = User()\n",
        "User.initialize(user3, \"Taeho\", \"taeho@codeit.kr\", \"123abc\")\n",
        "\n",
        "user4 = User()\n",
        "User.initialize(user4, \"Lisa\", \"lisa@codeit.kr\", \"abc123\")\n",
        "\n",
        "\n",
        "\n",
        "print(user1.name, user1.email, user1.password)\n",
        "print(user2.name, user2.email, user2.password)\n",
        "print(user3.name, user3.email, user3.password)\n",
        "print(user4.name, user4.email, user4.password)"
      ],
      "execution_count": 20,
      "outputs": [
        {
          "output_type": "stream",
          "name": "stdout",
          "text": [
            "Young young@codeit.kr 123456\n",
            "Yoonsoo yoonsoo@codeit.kr abcdef\n",
            "Taeho taeho@codeit.kr 123abc\n",
            "Lisa lisa@codeit.kr abc123\n"
          ]
        }
      ]
    },
    {
      "cell_type": "markdown",
      "metadata": {
        "id": "TTFGGUjbokBI"
      },
      "source": [
        "### __init__ 메소드\n",
        "\n",
        "* 언더바(__)가 두 개가 있는 메서드를 ```magin method```, ```special method``` 라고 한다. 특수 메서드라고 한다.\n",
        "    * 특수 메소드 : 특정 상황에서 자동으로 호출되는 메소드\n",
        "\n",
        "    * ```__init__``` 메서드(이닛 메서드) : 인스턴스가 생성될 때 자동으로 호출된다.\n",
        "        * 예시를 통해 설명\n",
        "        \n",
        "        ```user1 = User(\"Young\", \"young@codeit.kr\", \"123456\")```가 실행되는 과정\n",
        "            1. User 인스턴스 생성\n",
        "            2. __init__ 메소드 자동 호출\n",
        "    \n",
        "    * 이닛 메서드를 사용한다면 인스턴스 생성과 인스턴스 속성 추가를 한 줄에 할 수 있다!\n",
        "    * 이러한 장점때문에 이닛 메서드를 꼭 작성한다."
      ]
    },
    {
      "cell_type": "code",
      "metadata": {
        "colab": {
          "base_uri": "https://localhost:8080/"
        },
        "id": "v4BpvR8k5hFA",
        "outputId": "57d9c5bd-b0cf-47f4-c023-059f62589743"
      },
      "source": [
        "# main.py (내 풀이)\n",
        "class User:\n",
        "    # initialize 메소드를 여기 쓰세요\n",
        "    def __init__(self, self_name, self_email, self_password):\n",
        "        self.name = self_name\n",
        "        self.email = self_email\n",
        "        self.password = self_password\n",
        "    \n",
        "# 새 인스턴스를 만들 때 두 줄만 작성하면 된다.\n",
        "# 아래의 방법을 더 줄일 수도 있다.\n",
        "\n",
        "# __init__ 메소드를 사용하지 않은 before 과정\n",
        "# user1 = User()\n",
        "# user1.initialize(\"Young\", \"young@codeit.kr\", \"123456\")\n",
        "\n",
        "# user2 = User()\n",
        "# user2.initialize(\"Yoonsoo\", \"yoonsoo@codeit.kr\", \"abcdef\")\n",
        "\n",
        "# user3 = User()\n",
        "# User.initialize(user3, \"Taeho\", \"taeho@codeit.kr\", \"123abc\")\n",
        "\n",
        "# user4 = User()\n",
        "# User.initialize(user4, \"Lisa\", \"lisa@codeit.kr\", \"abc123\")\n",
        "\n",
        "# __init__ 메소드를 사용한 후\n",
        "user1 = User(\"Young\", \"young@codeit.kr\", \"123456\")\n",
        "user2 = User(\"Yoonsoo\", \"yoonsoo@codeit.kr\", \"abcdef\")\n",
        "user3 = User(\"Taeho\", \"taeho@codeit.kr\", \"123abc\")\n",
        "user4 = User(\"Lisa\", \"lisa@codeit.kr\", \"abc123\")\n",
        "\n",
        "\n",
        "\n",
        "print(user1.name, user1.email, user1.password)\n",
        "print(user2.name, user2.email, user2.password)\n",
        "print(user3.name, user3.email, user3.password)\n",
        "print(user4.name, user4.email, user4.password)\n"
      ],
      "execution_count": 23,
      "outputs": [
        {
          "output_type": "stream",
          "name": "stdout",
          "text": [
            "Young young@codeit.kr 123456\n",
            "Yoonsoo yoonsoo@codeit.kr abcdef\n",
            "Taeho taeho@codeit.kr 123abc\n",
            "Lisa lisa@codeit.kr abc123\n"
          ]
        }
      ]
    },
    {
      "cell_type": "markdown",
      "metadata": {
        "id": "67B-aWNWolxF"
      },
      "source": [
        "### # 맞팔해요\n",
        "\n",
        "* 코드잇에서 강의를 듣고 인스타그램에 취직한 Jane은 ```User``` 클래스에 \"팔로우\" 기능을 추가하라는 지시를 받았습니다.\n",
        "\n",
        "* 팔로우 기능은 크게 2개의 동작을 해야 합니다.\n",
        "    1. \"내가 팔로우하는 사람\" 목록에 그 사람을 추가하는 동작과\n",
        "    2. 상대방의 \"나를 팔로우하는 사람\" 목록에 나를 추가하는 동작\n",
        "\n",
        "* 팔로우 가능은 ```follow``` 메소드로 구현하려고 하는데요, 팔로우 기능을 만드는 김에\n",
        "    1. ```follow``` 메소드 말고도\n",
        "    2. 유저가 팔로우하는 사람 수를 알려주는 ```num_following``` 메소드와\n",
        "    3. 유저를 팔로우하는 사람 수를 알려주는 ```num_followers``` 메소드도\n",
        "\n",
        "추가해 봅시다.\n",
        "\n",
        "```User``` 클래스에 이 메소드들을 모두 추가하고 나서 코드를 실행하면 아래와 같은 실행 결과가 나와야 합니다.\n",
        "\n",
        "실행 결과\n",
        "\n",
        "```\n",
        "Young 2 2\n",
        "Yoonsoo 1 3\n",
        "Taeho 2 0\n",
        "Lisa 1 1\n",
        "```"
      ]
    },
    {
      "cell_type": "code",
      "metadata": {
        "id": "63iXJ5W476PE"
      },
      "source": [
        "# main.py\n",
        "class User:\n",
        "    # 인스턴스 변수 설정\n",
        "    def __init__(self, name, email, password):\n",
        "        self.name = name\n",
        "        self.email = email\n",
        "        self.password = password\n",
        "\n",
        "        self.following_list = []    # 이 유저가 팔로우하는 유저 리스트\n",
        "        self.followers_list = []    # 이 유저를 팔로우하는 유저 리스트\n",
        "\n",
        "    # 팔로우\n",
        "    def follow(self, another_user):\n",
        "        # 코드를 입력하세요\n",
        "        self.following_list.append(another_user)     # self가 another_user를 팔로우\n",
        "        another_user.followers_list.append(self)     # another_user를 팔로우하는 self\n",
        "\n",
        "    # 내가 몇 명을 팔로우하는지 리턴\n",
        "    def num_following(self):\n",
        "        # 코드를 입력하세요\n",
        "        return len(self.following_list)\n",
        "\n",
        "    # 나를 몇 명이 팔로우하는지 리턴\n",
        "    def num_followers(self):\n",
        "        # 코드를 입력하세요\n",
        "        return len(self.followers_list)\n",
        "        \n",
        "\n",
        "# 유저들 생성\n",
        "user1 = User(\"Young\", \"young@codeit.kr\", \"123456\")\n",
        "user2 = User(\"Yoonsoo\", \"yoonsoo@codeit.kr\", \"abcdef\")\n",
        "user3 = User(\"Taeho\", \"taeho@codeit.kr\", \"123abc\")\n",
        "user4 = User(\"Lisa\", \"lisa@codeit.kr\", \"abc123\")\n",
        "\n",
        "# 유저마다 서로 관심 있는 유저를 팔로우\n",
        "user1.follow(user2)\n",
        "user1.follow(user3)\n",
        "user2.follow(user1)\n",
        "user2.follow(user3)\n",
        "user2.follow(user4)\n",
        "user4.follow(user1)\n",
        "\n",
        "# 유저 이름, 자신의 팔로워 수, 자신이 팔로우하는 사람 수를 출력합니다\n",
        "print(user1.name, user1.num_followers(), user1.num_following())\n",
        "print(user2.name, user2.num_followers(), user2.num_following())\n",
        "print(user3.name, user3.num_followers(), user3.num_following())\n",
        "print(user4.name, user4.num_followers(), user4.num_following())\n"
      ],
      "execution_count": null,
      "outputs": []
    },
    {
      "cell_type": "markdown",
      "metadata": {
        "id": "dfqRDiPvoqip"
      },
      "source": [
        "### __str__ 메소드"
      ]
    },
    {
      "cell_type": "markdown",
      "metadata": {
        "id": "qUq4JBYUormi"
      },
      "source": [
        "### 클래스 변수"
      ]
    },
    {
      "cell_type": "markdown",
      "metadata": {
        "id": "Y85y1iUyosgq"
      },
      "source": [
        "### 여기서 잠깐! 데코레이터"
      ]
    },
    {
      "cell_type": "markdown",
      "metadata": {
        "id": "hh88mgvZot_J"
      },
      "source": [
        "### 클래스 메소드"
      ]
    },
    {
      "cell_type": "markdown",
      "metadata": {
        "id": "yIhPFf1xovfW"
      },
      "source": [
        "### 클래스 메소드 활용"
      ]
    },
    {
      "cell_type": "markdown",
      "metadata": {
        "id": "KvSEPSE2owfZ"
      },
      "source": [
        "### 정적 메소드"
      ]
    },
    {
      "cell_type": "markdown",
      "metadata": {
        "id": "MoYWjHtRoxZf"
      },
      "source": [
        "### 객체를 만드는 법"
      ]
    },
    {
      "cell_type": "markdown",
      "metadata": {
        "id": "Uw6v_NQLihQ3"
      },
      "source": [
        "## 3. 미리 알고 가야 할 것들\n",
        "\n",
        "```\n",
        "- 미리 알고 갑시다\n",
        "- 파이썬은 순수 객체 지향 언어?\n",
        "- 가변 vs 불변 타입\n",
        "- 파이썬 퀴즈\n",
        "- 절차 지향 프로그래밍 vs 객체 지향 프로그래밍\n",
        "- 유용한 함수들\n",
        "- 모듈\n",
        "```"
      ]
    },
    {
      "cell_type": "markdown",
      "metadata": {
        "id": "w8aQrUh8iia6"
      },
      "source": [
        "##4. 객체 만들기 연습\n",
        "\n",
        "```\n",
        "- 메뉴 만들기\n",
        "- 속성이 없는 계산기\n",
        "- 게임 캐릭터 만들기\n",
        "- 블로그 유저 만들기\n",
        "```"
      ]
    },
    {
      "cell_type": "markdown",
      "metadata": {
        "id": "YrBfw5vwoRTS"
      },
      "source": [
        "## 5. 객체 지향 프로그래밍 직접 해보기\n",
        "\n",
        "```\n",
        "- 혹시... 시간이 어떻게 되나요?\n",
        "- 시간 나누기\n",
        "- 시계 프로그램\n",
        "```"
      ]
    },
    {
      "cell_type": "code",
      "metadata": {
        "id": "ACYW-1RUh9vV"
      },
      "source": [
        ""
      ],
      "execution_count": null,
      "outputs": []
    }
  ]
}
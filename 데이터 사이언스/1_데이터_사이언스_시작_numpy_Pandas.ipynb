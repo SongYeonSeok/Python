{
  "nbformat": 4,
  "nbformat_minor": 0,
  "metadata": {
    "colab": {
      "name": "1. 데이터 사이언스 시작_numpy_Pandas.ipynb",
      "provenance": [],
      "collapsed_sections": [],
      "authorship_tag": "ABX9TyMauXCNknu5PzhYa58dns3l",
      "include_colab_link": true
    },
    "kernelspec": {
      "name": "python3",
      "display_name": "Python 3"
    },
    "language_info": {
      "name": "python"
    }
  },
  "cells": [
    {
      "cell_type": "markdown",
      "metadata": {
        "id": "view-in-github",
        "colab_type": "text"
      },
      "source": [
        "<a href=\"https://colab.research.google.com/github/SongYeonSeok/Python/blob/main/1_%EB%8D%B0%EC%9D%B4%ED%84%B0_%EC%82%AC%EC%9D%B4%EC%96%B8%EC%8A%A4_%EC%8B%9C%EC%9E%91_numpy_Pandas.ipynb\" target=\"_parent\"><img src=\"https://colab.research.google.com/assets/colab-badge.svg\" alt=\"Open In Colab\"/></a>"
      ]
    },
    {
      "cell_type": "markdown",
      "metadata": {
        "id": "eWpPDQFSBnv3"
      },
      "source": [
        "# 데이터 사이언스란? \n",
        "- 지금 당장 데이터 사이언스를 배워야 하는 이유\n",
        "- 데이터 사이언스에 대한 오해\n",
        "- 왜 파이썬으로 데이터 사이언스?\n",
        "- 데이터 사이언스 프로세스\n",
        "- 데이터 사이언스 입문 수강 가이드\n",
        "- 선수 과제"
      ]
    },
    {
      "cell_type": "markdown",
      "metadata": {
        "id": "0YD-3UOzCXyS"
      },
      "source": [
        "- 지금 당장 데이터 사이언스를 배워야 하는 이유\n",
        "    - 데이터 사이언스 = 데이터를 다루는 일\n",
        "    - 데이터가 많다 = 할 일이 많다.\n",
        "    - 데이터를 많이 모으는 곳은 SW 업계이다. 모든 기업이 데이터 기반으로 움직인다.\n",
        "    - 분야는 막론하고 데이터는 중요해졌고, 앞으로는 더 중요해질 것이다.\n",
        "    살아가면서, 데이터에 대한 이해와 데이터를 다루는 능력이 있으면 엄청난 경쟁력을 가질 수 있다고 말할 수 있다.\n",
        "\n",
        "- 데이터 사이언스에 대한 오해\n",
        "    1. 데이터 사이언스에서 가장 중요한 건 인공지능, 딥러닝이다.\n",
        "        - 데이터를 모으는 과정 -> 옮기고 저장 -> 정리 : 데이터 엔지니어링\n",
        "        - -> 분석 -> A/B 테스트 -> 인공지능\n",
        "        - 앞선 과정이 제일 중요한 것이다.\n",
        "        - 인공지능 : 노력, 돈, 시간 대비 가치가 크지 않다.\n",
        "        - 인공 지능을 위한 전 과정 : 적은 노력으로 많은 가치를 얻을 수 있다.\n",
        "        - 데이터 사이언스의 순서가 존재한다.\n",
        "\n",
        "    2. 데이터 사이언티스트는 왠지 하루종일 컴퓨터와 수학만 할 것 같다.\n",
        "    수학과 통계가 가장 중요할까?\n",
        "    - 데이터 사이언스의 목표 : 가치를 더할 수 있는 문제 찾기 + 데이터로 해결\n",
        "    - 인사이트(통찰) + 커뮤니케이션도 중요하다.\n",
        "    - 업계 소식 + 세미나 + 관심 있는 분야 -> 더 좋은 데이터 사이언티스트가 될 수 있을 것이다.\n",
        "\n",
        "- 왜 파이썬으로 데이터 사이언스?\n",
        "    - R, Python\n",
        "    - R : 통계, 시각화를 위한 언어 (데이터 분석 특화)\n",
        "        - 통계와 시각화만을 위한 툴이라는 한계가 있다.\n",
        "        - 연구 위주\n",
        "        - 배우기 어렵다.(특이한 점이 있어서 처음 배운다면 어려울 수 있다)\n",
        "\n",
        "    - Python : 다양한 용도로 만들어진 언어\n",
        "        - 다양한 분야에서 많이 사용됨\n",
        "        - 다른 분야로 넘어갈 수 있다.\n",
        "        - 데이터 분석 + 다른 분야와 접목할 수도 있다.\n",
        "        - 최근 numpy, pandas 등의 라이브러리와 tensorflow 등의 모듈들이 많이 개발되어 Python을 많이 사용하고 있다.\n",
        "        - 간단하고 직관적이며, 처음 배우기 쉽다.\n"
      ]
    },
    {
      "cell_type": "markdown",
      "metadata": {
        "id": "KJI9bzaoEqOS"
      },
      "source": [
        "- 데이터 사이언스 프로세스\n",
        "    1. 문제 정의하기\n",
        "    2. 데이터 모으기\n",
        "    3. 데이터 다듬기\n",
        "    4. 데이터 분석하기\n",
        "    5. 데이터 시각화 및 커뮤니케이션\n",
        "\n",
        "# 1. 문제 정의하기\n",
        "> 해결하고자 하는 문제를 정의한다.\n",
        "\n",
        "- 해결하고자 하는 게 무엇인지, 언제까지 어떤 결과물을 얻을 것인지, 어떤 방식으로 데이터를 활용할 것인지 등을 설정한다.\n",
        "    - 목표 설정\n",
        "    - 기간 설정\n",
        "    - 평가 방법 설정\n",
        "    - 필요한 데이터 설정\n",
        "\n",
        "# 2. 데이터 모으기\n",
        "> 필요한 데이터를 모을 수 있는 방법을 찾습니다.\n",
        "\n",
        "- 누군가 이미 모아 놓은 데이터를 그대로 사용할 수도 있고, 공공 기관 등에서 배포한 자료를 찾아 볼 수도 있고, 혹은 웹사이트에서 직접 데이터를 수집할 수도 있다.\n",
        "    - 웹 크롤링\n",
        "    - 자료 모으기\n",
        "    - 파일 읽고 쓰기\n",
        "\n",
        "# 3. 데이터 다듬기\n",
        "> 데이터의 퀄리티를 높여서 의미 있는 분석이 가능하게끔 합니다.\n",
        "\n",
        "- 일반적으로 우리가 수집한 데이터에는 수많은 문제점들이 있습니다.\n",
        "> 쓰레기를 넣으면 쓰레기가 나온다(garbage in, garbage out)\n",
        "- 이런 문제점들로 인해 분석 자체가 불가능할 수도 있고, 혹은 분석을 하더라도 잘못된 결론으로 이어질 수도 있습니다.\n",
        "    - 데이터 관찰하기\n",
        "    - 데이터 오류 제거\n",
        "    - 데이터 정리하기\n",
        "\n",
        "# 4. 데이터 분석하기\n",
        "> 준비된 데이터로 부터 의미를 찾습니다.\n",
        "\n",
        "- 이 과정은 통계를 이용해서 수치적으로도 할 수도 있고, 수십 가지의 그래프를 그려보면서 탐색할 수도 있습니다.\n",
        "우리가 처음 설계했던 방식대로 데이터를 활용해서 원하는 겨로가를 도출해 내야 합니다!\n",
        "    - 데이터 파악하기\n",
        "    - 데이터 변형하기\n",
        "    - 통계 분석\n",
        "    - 인사이트 발견\n",
        "    - 의미 도출\n",
        "\n",
        "# 5. 커뮤니케이션\n",
        "> 분석 결과를 다른 사람들에게 전달합니다.\n",
        "\n",
        "- 어떤 문제를 해결하려 했는지, 어떻게 데이터를 모았는지, 어떤 방식으로 어떤 인사이트를 얻었는지 등을 다른 사람들에게 전달해야 합니다.\n",
        "적절한 시각화를 통해 소통을 원활히 할 수 있습니다.\n",
        "    - 다양한 시각화\n",
        "    - 커뮤니케이션\n",
        "    - 리포트"
      ]
    },
    {
      "cell_type": "markdown",
      "metadata": {
        "id": "TMHWhCvxCssV"
      },
      "source": [
        "- 데이터 사이언스 입문 수강 가이드\n",
        "\n",
        "1. 데이터 사이언스 시작하기\n",
        "> 데이터 사이언스를 위한 준비\n",
        "\n",
        "- Jupyter Notebook, Numpy, Pandas 라이브러리 공부, DataFrame에 대한 공부\n",
        "\n",
        "2. DataFrame 다루기\n",
        "> DataFrame 마스터하기\n",
        "\n",
        "- 데이터 인덱싱, 데이터 변형하기, 큰 데이터 파악하기\n",
        "\n",
        "3. 데이터 분석과 시각화\n",
        "> 데이터 분석가가 되기 위한 첫걸음!\n",
        "\n",
        "- 시각화와 그래프\n",
        "- Seaborn 시각화\n",
        "- 통계 분석\n",
        "- EDA\n",
        "- 데이터 분석 인사이트\n",
        "\n",
        "4. 데이터 퀄리티 높이기\n",
        "- 좋은 데이터의 기준\n",
        "- 데이터 클리닝\n",
        "\n",
        "5. 데이터 만들어내기\n",
        "- 데이터를 만드는 방법\n",
        "- 웹에서 긁어오기\n",
        "- 필요한 것만 골라내기"
      ]
    },
    {
      "cell_type": "markdown",
      "metadata": {
        "id": "IB9T05iCG6Fz"
      },
      "source": [
        "# Jupyter Notebook\n",
        "> Google Colab 사용\n",
        "\n",
        "- 개발 환경 설정하기\n",
        "    - 텍스트 에디터 + 커멘드 라인 : 컴퓨터 사양이 좋지 않아도 사용 가능하다는 점 있지만, 실수 가능성 높고, 수리가 힘들다.\n",
        "    - IDE (Integrated Development Environment) : Pycharm, IntelliJ, Cloud IDE\n",
        "        - 장점 : 통합 개발 환경이기 때문에 제공되는 툴이 많음\n",
        "        - 단점 : 소프트웨어 자체가 무거움 -> 어느 정도의 사양이 필요, 세팅법과 사용법을 익히기 어려움, 제대로 이해하지 않고 IDE에 의존하게 되는 경우도 있다.\n",
        "\n",
        "    - Jupyter Notebook\n",
        "        - 데이터 사이언스할 때 사용\n",
        "        - 코드의 결과물을 바로 볼 수 있다.\n",
        "        - Markdown 처럼 깔끔하게 글을 정리하고 볼 수 있다.\n",
        "        - IDE에서 제공되는 툴은 거의 없고, 협업 등에서 어려움을 겪을 수 있다.\n",
        "\n",
        "- Jupyter Notebook 설치하기\n",
        "    - 다운 -> 'Add Anaconda to my PATH environment variable' 클릭 -> 설치 완료\n",
        "    \n",
        "- 명령 프롬프트로 Jupyter Notebook 설치하기\n",
        "    > 만약 Jupyter Notebook이 실행된다면 건너뛰어도 된다.\n",
        "\n",
        "    1. 파이썬3 설치하기\n",
        "    2. cmd 실행 -> 'pip install jupyter' 입력 후 엔터\n",
        "    3. 설치 완료되면, cmd 창에 'jupyter notebook' 입력하기\n",
        "    \n",
        "    - pip 추가 (라이브러리 설치법)\n",
        "        - pip install numpy\n",
        "        - pip install pandas\n",
        "        - pip install matplotlib\n",
        "        - pip install seaborn\n",
        "        - pip install beautifulsoup4\n",
        "        - pip install selenium\n",
        "\n",
        "- Markdown 정리(몰랐던 거만 입력하기)\n",
        "    - 줄 바꿈 : vv(space 두 번 누르기)\n",
        "    * 링크 : [제목](링크 주소)\n",
        "    * 이미지 : ![이미지 제목](이미지 경로)\n",
        "    \n",
        "- Jupyter Notebook에서 값 출력하기"
      ]
    },
    {
      "cell_type": "markdown",
      "metadata": {
        "id": "U7skQu62MpN7"
      },
      "source": [
        "# Numpy\n",
        "- numpy란?\n",
        "    - 데이터 사이언스 = 데이터 수집 + 데이터 정리 + 시각화 + 분석\n",
        "    - 계산 작업을 편하게 해줄 도구 중 하나 : Numpy\n",
        "    - numpy = numerical python ; 숫자와 관련된 파이썬\n",
        "    - 중요한 이유 : numpy Array ~= python 리스트 -> 짧은 코드로 대용량, 효율적 처리 가능\n"
      ]
    },
    {
      "cell_type": "markdown",
      "metadata": {
        "id": "YY0R-eexN27i"
      },
      "source": [
        "- numpy array의 생김새\n",
        "\n",
        "\n"
      ]
    },
    {
      "cell_type": "code",
      "metadata": {
        "colab": {
          "base_uri": "https://localhost:8080/"
        },
        "id": "3GxthqxvBlm_",
        "outputId": "00e4d24d-4b74-48ec-b8ab-38d585bfd25f"
      },
      "source": [
        "import numpy as np\n",
        "array = np.array([2, 3, 5, 7, 11, 13, 17, 19, 23, 29, 31])\n",
        "print(type(array))\n",
        "print(array)\n"
      ],
      "execution_count": 2,
      "outputs": [
        {
          "output_type": "stream",
          "name": "stdout",
          "text": [
            "<class 'numpy.ndarray'>\n",
            "[ 2  3  5  7 11 13 17 19 23 29 31]\n"
          ]
        }
      ]
    },
    {
      "cell_type": "code",
      "metadata": {
        "colab": {
          "base_uri": "https://localhost:8080/"
        },
        "id": "mvyXG1CWOSOP",
        "outputId": "13404b9a-6a4e-411f-e718-8e736e6f9f73"
      },
      "source": [
        "array.shape  # 11개 원소, 1차원"
      ],
      "execution_count": 3,
      "outputs": [
        {
          "output_type": "execute_result",
          "data": {
            "text/plain": [
              "(11,)"
            ]
          },
          "metadata": {},
          "execution_count": 3
        }
      ]
    },
    {
      "cell_type": "code",
      "metadata": {
        "colab": {
          "base_uri": "https://localhost:8080/"
        },
        "id": "hP5rUqE3OXXv",
        "outputId": "778767d8-06c7-46f6-fcd3-1ca08b45733e"
      },
      "source": [
        "array2 = np.array([[1,2,3,4], [5,6,7,8], [9,10,11,12]])\n",
        "print(type(array2))\n",
        "print(array2)\n",
        "print(array2.shape)  # 2차원 array\n",
        "print(array2.size)   # 요소의 개수 출력\n",
        "# 행렬을 배울 때 numpy를 많이 사용하게 된다."
      ],
      "execution_count": 6,
      "outputs": [
        {
          "output_type": "stream",
          "name": "stdout",
          "text": [
            "<class 'numpy.ndarray'>\n",
            "[[ 1  2  3  4]\n",
            " [ 5  6  7  8]\n",
            " [ 9 10 11 12]]\n",
            "(3, 4)\n",
            "12\n"
          ]
        }
      ]
    },
    {
      "cell_type": "markdown",
      "metadata": {
        "id": "E3wwVZPVN4Ex"
      },
      "source": [
        "- numpy array를 만드는 다양한 방법\n",
        "    1. 파이썬 리스트를 통해 생성\n",
        "        - numpy 모듈의 array 메소드에 파라미터로 파이썬 리스트를 넘겨주면 numpy array가 리턴된다.\n",
        "\n",
        "        ```\n",
        "        array1 = numpy.array([2, 3, 5, 7, 11, 13, 17, 19, 23, 29, 31])\n",
        "        print(array1)\n",
        "\n",
        "        # [ 2 3 5 7 11 13 17 19 23 29 31 ]\n",
        "        ```\n",
        "\n",
        "    2. 균일한 값으로 생성\n",
        "        - numpy 모듈의 full 메소드를 사용하면, 모든 값이 같은 numpy array를 생성할 수 있다.\n",
        "        - ```numpy.full(원소, 반복 횟수)```\n",
        "\n",
        "        ```\n",
        "        array1 = numpy.full(6, 7)\n",
        "        print(array1)\n",
        "\n",
        "        # [7 7 7 7 7 7]\n",
        "        ```\n",
        "\n",
        "    3. 모든 값이 0인 numpy array 생성\n",
        "        - full 메소드보다 zeros 메소드를 사용한다.\n",
        "        - ```numpy.zeros(반복 횟수, dtype=int)```\n",
        "        \n",
        "        ```\n",
        "        array1 = numpy.full(6, 0)\n",
        "        array2 = numpy.zeros(6, dtype=int)\n",
        "\n",
        "        print(array1)\n",
        "        print()\n",
        "        print(array2)\n",
        "\n",
        "        # [0 0 0 0 0 0]\n",
        "        #\n",
        "        # [0 0 0 0 0 0]\n",
        "        ```\n",
        "\n",
        "    4. 모든 값이 1인 numpy array 생성\n",
        "        - zeros 메소드 대신 ones 메소드 사용한다.\n",
        "        - ```numpy.ones(반복 횟수, dtype=int)```\n",
        "        \n",
        "        ```\n",
        "        array1 = numpy.full(6, 1)\n",
        "        array2 = numpy.ones(6, dtype=int)\n",
        "\n",
        "        print(array1)\n",
        "        print()\n",
        "        print(array2)\n",
        "\n",
        "        # [1 1 1 1 1 1]\n",
        "        # \n",
        "        # [1 1 1 1 1 1]\n",
        "        ```\n",
        "\n",
        "    5. 랜덤한 값들로 생성\n",
        "        - numpy의 random 모듈의 random 함수를 사용하면 된다.\n",
        "        - numpy 모듈 안에 random 모듈이 있고, 그 모듈 안에 random 함수가 있다.\n",
        "        \n",
        "        ```\n",
        "        array1 = numpy.random.random(6)\n",
        "        array2 = numpy.random.random(6)\n",
        "\n",
        "        print(array1)\n",
        "        print()\n",
        "        print(array2)\n",
        "\n",
        "        # [0.42214929 0.45275673 0.57978413 0.61417065 0.39448558 0.03347601]\n",
        "        #\n",
        "        # [0.42521953 0.65091589 0.94045742 0.18138103 0.27150749 0.8450694 ]\n",
        "        ```\n",
        "\n",
        "    6. 파라미터 1개\n",
        "        - ```arange(m)```을 하면 0부터 m-1까지의 값들이 담긴 numpy array가 리턴됨\n",
        "        \n",
        "        ```\n",
        "        array = numpy.arange(6)\n",
        "        print(array)\n",
        "\n",
        "        # [0 1 2 3 4 5]\n",
        "        ```\n",
        "\n",
        "    7. 파라미터 2개\n",
        "        - ```arange(n, m)```을 하면 n부터 m-1까지의 값들이 담긴 numpy array가 리턴됨\n",
        "        \n",
        "        ```\n",
        "        array = numpy.arange(2, 7)\n",
        "        print(array)\n",
        "\n",
        "        # [2 3 4 5 6]\n",
        "        ```\n",
        "\n",
        "    8. 파라미터 3개\n",
        "        - ```arange(n, m, s)```을 하면 n부터 m-1까지의 값들 중 간격이 s인 값들이 담긴 numpy array 가 리턴됨\n",
        "        \n",
        "        ```\n",
        "        array = numpy.arange(3, 17, 3)\n",
        "        print(array)\n",
        "\n",
        "        # [ 3 6 9 12 15]\n",
        "        ```\n",
        "- 모듈 별명 지어주기\n",
        "    - ```import numpy as np``` : 관용적인 표현\n",
        "    - as를 사용해서 별명으로 개발을 편하게 할 수 있다.\n",
        "\n",
        "- 인덱싱, 슬라이싱\n",
        "    - 파이썬 리스트처럼 인덱싱과 슬라이싱을 사용할 수 있다.\n"
      ]
    },
    {
      "cell_type": "markdown",
      "metadata": {
        "id": "yfBoF63yVVNj"
      },
      "source": [
        "- numpy 기본 연산\n",
        "    - numpy = 수치 계산을 위한 파이썬 도구\n"
      ]
    },
    {
      "cell_type": "code",
      "metadata": {
        "colab": {
          "base_uri": "https://localhost:8080/"
        },
        "id": "jJTfDj0NVZww",
        "outputId": "66c62331-c5d5-4a3e-d877-baa5adb3cf14"
      },
      "source": [
        "# import numpy as np\n",
        "\n",
        "array1 = np.arange(10)\n",
        "array2 = np.arange(10, 20)\n",
        "\n",
        "print(array1 * 2)  # 리스트 원소 값 모두 곱하는 기능(간단)\n",
        "print(array1 + 2)\n",
        "print(array1 - 2)\n",
        "print(array1 / 2)\n",
        "print(array1 ** 2)\n",
        "print(array1)       # 위와 같이 계산한다면 값은 변하지 않는다.\n",
        "\n",
        "print(array1 + array2)\n",
        "print(array1 - array2)\n",
        "print(array1 * array2)\n",
        "print(array1 / array2)"
      ],
      "execution_count": 12,
      "outputs": [
        {
          "output_type": "stream",
          "name": "stdout",
          "text": [
            "[ 0  2  4  6  8 10 12 14 16 18]\n",
            "[ 2  3  4  5  6  7  8  9 10 11]\n",
            "[-2 -1  0  1  2  3  4  5  6  7]\n",
            "[0.  0.5 1.  1.5 2.  2.5 3.  3.5 4.  4.5]\n",
            "[ 0  1  4  9 16 25 36 49 64 81]\n",
            "[0 1 2 3 4 5 6 7 8 9]\n",
            "[10 12 14 16 18 20 22 24 26 28]\n",
            "[-10 -10 -10 -10 -10 -10 -10 -10 -10 -10]\n",
            "[  0  11  24  39  56  75  96 119 144 171]\n",
            "[0.         0.09090909 0.16666667 0.23076923 0.28571429 0.33333333\n",
            " 0.375      0.41176471 0.44444444 0.47368421]\n"
          ]
        }
      ]
    },
    {
      "cell_type": "markdown",
      "metadata": {
        "id": "0twqjgSBVXgb"
      },
      "source": [
        "- numpy 불린 연산\n"
      ]
    },
    {
      "cell_type": "code",
      "metadata": {
        "colab": {
          "base_uri": "https://localhost:8080/"
        },
        "id": "69j1WJtPW8dB",
        "outputId": "131e1fc6-8a81-48e6-de0a-d724f2c60103"
      },
      "source": [
        "#import numpy as np\n",
        "\n",
        "array1 = np.array([2, 3, 5, 7, 11, 13, 17, 19, 23, 29, 31])\n",
        "print(array1 > 4)\n",
        "print(array1 % 2 == 0)\n",
        "\n",
        "booleans = np.array([True, True, False, True, True, False, True, True, True, False, True])\n",
        "np.where(booleans)  # True만 뽑아서 인덱스 출력"
      ],
      "execution_count": 16,
      "outputs": [
        {
          "output_type": "stream",
          "name": "stdout",
          "text": [
            "[False False  True  True  True  True  True  True  True  True  True]\n",
            "[ True False False False False False False False False False False]\n"
          ]
        },
        {
          "output_type": "execute_result",
          "data": {
            "text/plain": [
              "(array([ 0,  1,  3,  4,  6,  7,  8, 10]),)"
            ]
          },
          "metadata": {},
          "execution_count": 16
        }
      ]
    },
    {
      "cell_type": "code",
      "metadata": {
        "colab": {
          "base_uri": "https://localhost:8080/"
        },
        "id": "SuWUaFqcXc1J",
        "outputId": "8eade3b9-22cd-4b92-906b-4a06dd093581"
      },
      "source": [
        "np.where(array1 > 4)"
      ],
      "execution_count": 17,
      "outputs": [
        {
          "output_type": "execute_result",
          "data": {
            "text/plain": [
              "(array([ 2,  3,  4,  5,  6,  7,  8,  9, 10]),)"
            ]
          },
          "metadata": {},
          "execution_count": 17
        }
      ]
    },
    {
      "cell_type": "code",
      "metadata": {
        "colab": {
          "base_uri": "https://localhost:8080/"
        },
        "id": "1-4aZtykXh9I",
        "outputId": "fff517c1-a20d-4750-852a-075a8f1bfcfb"
      },
      "source": [
        "filter = np.where(array1 > 4)\n",
        "filter"
      ],
      "execution_count": 18,
      "outputs": [
        {
          "output_type": "execute_result",
          "data": {
            "text/plain": [
              "(array([ 2,  3,  4,  5,  6,  7,  8,  9, 10]),)"
            ]
          },
          "metadata": {},
          "execution_count": 18
        }
      ]
    },
    {
      "cell_type": "code",
      "metadata": {
        "colab": {
          "base_uri": "https://localhost:8080/"
        },
        "id": "2lr65gdkXlFs",
        "outputId": "0067b13d-70e0-4b01-cbd1-9c6b1f5e572b"
      },
      "source": [
        "print(filter)"
      ],
      "execution_count": 20,
      "outputs": [
        {
          "output_type": "stream",
          "name": "stdout",
          "text": [
            "(array([ 2,  3,  4,  5,  6,  7,  8,  9, 10]),)\n"
          ]
        }
      ]
    },
    {
      "cell_type": "markdown",
      "metadata": {
        "id": "jD3hC3MgW7yd"
      },
      "source": [
        "- numpy array vs python list\n",
        "    - 공통점 : 여러 값을 보관한다는 공통점\n",
        "    - 연산 차이\n",
        "        - numpy array \n",
        "            - array끼리 더하면 원소끼리 더해진다.(벡터의 덧셈연산)\n",
        "            - 뺄셈, 곱셈, 나눗셈 가능\n",
        "            - array와 스칼라 값의 연산이 가능하다.\n",
        "\n",
        "        - python list\n",
        "            - list끼리 더하면 하나의 리스트가 된다.(이어주는 역할)  \n",
        "            - 뺄셈, 곱셈, 나눗셈 불가능\n",
        "            - 리스트에 상수를 더하면 오류가 발생한다.(뺄셈, 나눗셈도 동일)\n",
        "            - 곱셈은 곱한 수대로 리스트 원소가 반복된다.\n",
        "\n",
        "    - 성능 차이\n",
        "        - numpy array\n",
        "            - 문법 간단 + 뛰어난 성능\n",
        "            - 리스트와 비교했을 때 처리 속도가 빠르다.\n",
        "        - python list\n",
        "            - 반복문을 사용해야 할 때도 있고, 처리 속도가 넘파이에 비해 느리다.\n",
        "\n",
        "    - 성능 차이가 있는 이유\n",
        "        - 파이썬 리스트 : 여러 데이터 타입의 원소를 입력할 수 있다.\n",
        "        - numpy array : 한 가지의 데이터 타입만 입력할 수 있다. 하지만 속도가 빠르다.\n",
        "\n",
        "    - 어떤 것을 써야 하는가\n",
        "        - 값을 추가하고 제거하는 일 : 파이썬 리스트\n",
        "        - 수치 계산이 많고 복잡할 때, 행렬같은 다차원 배열의 경우: numpy array \n",
        "\n",
        "\n",
        "- numpy 기본 통계\n",
        "    1. 최댓값과 최솟값\n",
        "        - 최댓값 : max 메소드\n",
        "        - 최솟값 : min 메소드\n",
        "\n",
        "        ```\n",
        "        import numpy as np\n",
        "\n",
        "        array = np.array([14, 6, 13, 21, 23, 31, 9, 5])\n",
        "\n",
        "        print(array.max())\n",
        "        print(array.min())\n",
        "\n",
        "        # 31\n",
        "        # 5\n",
        "        ```\n",
        "\n",
        "    2. 평균값\n",
        "        - mean 메소드를 사용하면 numpy array의 평균값을 구할 수 있다.\n",
        "\n",
        "        ```\n",
        "        import numpy as np\n",
        "\n",
        "        array = np.array([14, 6, 13, 21, 23, 31, 9, 5])\n",
        "\n",
        "        print(array.mean())\n",
        "\n",
        "        # 15.25\n",
        "        ```\n",
        "\n",
        "    3. 중앙값\n",
        "        - median 메소드를 사용하면 중간값을 구할 수 있다.\n",
        "        - 특이하게 median은 numpy.array의 메소드가 아닌 numpy 메소드이다.\n",
        "\n",
        "        ```\n",
        "        import numpy as np\n",
        "\n",
        "        array1 = np.array([8, 12, 9, 14, 16])\n",
        "        array2 = np.array([14, 6, 13, 21, 23, 31, 9, 5])\n",
        "\n",
        "        print(np.median(array1))\n",
        "        print(np.medina(array2))\n",
        "\n",
        "        # 12.0\n",
        "        # 13.5\n",
        "        ```\n",
        "\n",
        "    4. 표준 편차, 분산\n",
        "        - 표준 편차 : ```std()```, numpy 메소드\n",
        "        - 분산 : ```var()```, numpy 메소드\n",
        "\n",
        "        ```\n",
        "        import numpy as np\n",
        "\n",
        "        array = np.array([14, 6, 13, 21, 23, 31, 9, 5])\n",
        "\n",
        "        print(array.std())\n",
        "        print(array.var())\n",
        "\n",
        "        # 8.496322733983215\n",
        "        # 72.1875\n",
        "        ```"
      ]
    },
    {
      "cell_type": "markdown",
      "metadata": {
        "id": "bx_pTbHEbFMW"
      },
      "source": [
        "# Pandas\n",
        "- Pandas란?\n",
        "    - R : 통계를 위해 만들어진 언어로 데이터 분석의 도구가 잘 갖춰졌음\n",
        "    - Python : 다양한 용도로 만들어진 언어로, 데이터 분석의 도구가 평범하다\n",
        "    - 개발자들이 R의 장점이 Python으로 베끼기 시작했는데, 데이터 보관, 데이터 정리, 데이터 분석하는데 핵심 역할을 하는 데이터 프레임이다. \n",
        "    - Pandas 라이브러리는 이러한 데이터 프레임이란 것을 가져온 것이다.\n",
        "    - 많은 사람들이 Python 사용 + R의 장점 + 다양한 분야에서 사용 -> Python이 데이터 사이언스 언어로 많이 사용하게 됨\n",
        "    - Pandas 라이브러리 : numpy 기능은 Pandas에 있다고 생각하면 됨(외부 데이터 읽고 쓰기, 데이터 정리, 데이터 분석, 데이터 시각화) + 추가로 편한 기능이 있는 셈\n",
        "    - Pandas는 표 형식의 데이터를 다루는 데 매우 편리하여 데이터 사이언스에 필수적인 도구로 사용되고 있다.\n",
        "\n",
        "- DataFrame 소식\n",
        "    - database, excel의 data : 2차원 data -> 대부분 데이터 셋이 2차원 데이터라는 것을 알 수 있다.\n",
        "    - Pandas의 DataFrame : 2차원 형태의 데이터를 다루기 위한 자료형\n",
        "    - DataFrame : 표 형식의 데이터를 담는 자료형\n",
        "        - 행(가로, row/index), 열(세로, column)\n",
        "        - column : 데이터의 특징을 가짐\n",
        "        - row/index : 레코드, (사람, 객체 등을 뜻할 수 있다.)\n",
        "    \n",
        "    - numpy array와 Pandas 차이점\n",
        "        - Pandas 라이브러리는 numpy에 기반하여 만들어 진 것이다.\n",
        "        - Pandas = numpy + 컬럼과 로우의 이름에 붙여줄 수 있음(숫자 인덱스가 아닌 다양한 데이터 타입 인덱스) + 모든 값을 입력 가능(numpy에서 한 array = 한 datatype의 한계를 깸)\n",
        "\n",
        "- DataFrame 사용해보기\n"
      ]
    },
    {
      "cell_type": "code",
      "metadata": {
        "colab": {
          "base_uri": "https://localhost:8080/"
        },
        "id": "Eg22JkdSgnQz",
        "outputId": "8f4bef27-d0a5-40b3-d4ab-971657bf3ded"
      },
      "source": [
        "import pandas as pd\n",
        "#import numpy as np\n",
        "\n",
        "two_dimensional_list = [['dongwook', 50, 86], ['sineul', 89, 31], \n",
        "                        ['ikjoong', 68, 91], ['yoonsoo', 88, 75]]\n",
        "\n",
        "# my_df = pd.DataFrame(np.array(two_dimensional_list),\n",
        "#                      columns = ['name', 'english_score', 'math_score'],\n",
        "#                      index = ['a', 'b', 'c', 'd'])\n",
        "\n",
        "my_df = pd.DataFrame(two_dimensional_list, \n",
        "                    columns=['name', 'english_score', 'math_score'],\n",
        "                    index = ['a', 'b', 'c', 'd'])\n",
        "print(type(my_df))\n",
        "print(my_df)"
      ],
      "execution_count": 23,
      "outputs": [
        {
          "output_type": "stream",
          "name": "stdout",
          "text": [
            "<class 'pandas.core.frame.DataFrame'>\n",
            "       name  english_score  math_score\n",
            "a  dongwook             50          86\n",
            "b    sineul             89          31\n",
            "c   ikjoong             68          91\n",
            "d   yoonsoo             88          75\n"
          ]
        }
      ]
    },
    {
      "cell_type": "code",
      "metadata": {
        "colab": {
          "base_uri": "https://localhost:8080/"
        },
        "id": "GNsGiCL_htps",
        "outputId": "7c91e877-9c79-48a8-a0f6-2f0eed2f1d45"
      },
      "source": [
        "my_df.columns"
      ],
      "execution_count": 24,
      "outputs": [
        {
          "output_type": "execute_result",
          "data": {
            "text/plain": [
              "Index(['name', 'english_score', 'math_score'], dtype='object')"
            ]
          },
          "metadata": {},
          "execution_count": 24
        }
      ]
    },
    {
      "cell_type": "code",
      "metadata": {
        "colab": {
          "base_uri": "https://localhost:8080/"
        },
        "id": "C_695QJfhwUj",
        "outputId": "233647ee-0624-44ca-bd0c-978bc9e28304"
      },
      "source": [
        "my_df.index"
      ],
      "execution_count": 25,
      "outputs": [
        {
          "output_type": "execute_result",
          "data": {
            "text/plain": [
              "Index(['a', 'b', 'c', 'd'], dtype='object')"
            ]
          },
          "metadata": {},
          "execution_count": 25
        }
      ]
    },
    {
      "cell_type": "code",
      "metadata": {
        "colab": {
          "base_uri": "https://localhost:8080/"
        },
        "id": "ALZ_aob0hznU",
        "outputId": "48fb4c4e-bbe3-490b-df74-1724ab5c9ebe"
      },
      "source": [
        "my_df.dtypes"
      ],
      "execution_count": 26,
      "outputs": [
        {
          "output_type": "execute_result",
          "data": {
            "text/plain": [
              "name             object\n",
              "english_score     int64\n",
              "math_score        int64\n",
              "dtype: object"
            ]
          },
          "metadata": {},
          "execution_count": 26
        }
      ]
    },
    {
      "cell_type": "markdown",
      "metadata": {
        "id": "nTPuv6BUgmgo"
      },
      "source": [
        "- DataFrame을 만드는 다양한 방법\n",
        "    - From list of lists, array of arrays, list of series\n",
        "        - 2차원 리스트나 2차원 numpy array로 DataFrame을 만들 수 있다.\n",
        "        - 심지어 pandas Series를 담고 있는 리스트로도 DataFrame을 만들 수 있다.\n",
        "\n",
        "        - 따로 column과 row(index)에 대한 설정이 없으면 그냥 0, 1, 2, ... 순서로 값이 매겨진다.\n",
        "\n",
        "    - From dict of lists, dict of arrays, dict of series\n",
        "        - 파이썬 사전(Dictionary)으로도 DataFrame을 만들 수 있다.\n",
        "        - 사전의 key로는 column 이름을 쓰고, 그 column에 해당하는 리스트, numpy array, 혹은 pandas Series를 사전의 value로 넣어 주면 된다.\n",
        "\n",
        "        ```\n",
        "        import numpy as np\n",
        "        import pandas as pd\n",
        "\n",
        "        names = ['dongwook', 'sineui', 'ikjoong', 'yoonsoo']\n",
        "        english_scores = [50, 89, 68, 88]\n",
        "        math_scores = [86, 31, 91, 75]\n",
        "\n",
        "        dict1 = {\n",
        "            'name': names, \n",
        "            'english_score': english_scores, \n",
        "            'math_score': math_scores\n",
        "        }\n",
        "\n",
        "        dict2 = {\n",
        "            'name': np.array(names), \n",
        "            'english_score': np.array(english_scores), \n",
        "            'math_score': np.array(math_scores)\n",
        "        }\n",
        "\n",
        "        dict3 = {\n",
        "            'name': pd.Series(names), \n",
        "            'english_score': pd.Series(english_scores), \n",
        "            'math_score': pd.Series(math_scores)\n",
        "        }\n",
        "\n",
        "        # 아래 셋은 모두 동일합니다\n",
        "        df1 = pd.DataFrame(dict1)\n",
        "        df2 = pd.DataFrame(dict2)\n",
        "        df3 = pd.DataFrame(dict3)\n",
        "\n",
        "        print(df1)\n",
        "        ```\n",
        "\n",
        "    - From list of dicts\n",
        "        - 리스트가 담긴 사전이 아니라, 사전이 담긴 리스트로도 DataFrame을 만들 수 있다.\n",
        "\n",
        "        ```\n",
        "        import numpy as np\n",
        "        import pandas as pd\n",
        "\n",
        "        my_list = [\n",
        "            {'name': 'dongwook', 'english_score': 50, 'math_score': 86},\n",
        "            {'name': 'sineui', 'english_score': 89, 'math_score': 31},\n",
        "            {'name': 'ikjoong', 'english_score': 68, 'math_score': 91},\n",
        "            {'name': 'yoonsoo', 'english_score': 88, 'math_score': 75}\n",
        "        ]\n",
        "\n",
        "        df = pd.DataFrame(my_list)\n",
        "        df\n",
        "        ```\n"
      ]
    },
    {
      "cell_type": "markdown",
      "metadata": {
        "id": "IPdYQAkoljAS"
      },
      "source": [
        "- Pandas의 데이터 타입\n",
        "    - ```dtypes```을 사용해서 각 column이 어떤 데이터 타입을 보관하는지 확인할 수 있다.\n",
        "    ```\n",
        "    import pandas as pd\n",
        "\n",
        "    two_dimensional_list = [['dongwook', 50, 86], ['sineui', 89, 31], ['ikjoong', 68, 91], ['yoonsoo', 88, 75]]\n",
        "\n",
        "    my_df = pd.DataFrame(two_dimensional_list, columns=['name', 'english_score', 'math_score'], index=['a', 'b', 'c', 'd'])\n",
        "\n",
        "    print(my_df.dtypes)\n",
        "    ```\n",
        "\n",
        "    - 위 경우 'name' column은 object라는 데이터 타입을 보관하고, 'english_score'과 'math_score' column은 int64라는 데이터 타입을 보관하는 것이다.\n",
        "\n",
        "    - 한 column 내에서는 모든 값이 동일한 데이터 타입이다.\n",
        "\n",
        "    - Pandas의 dtypes(데이터 타입)들\n",
        "\n",
        "|dtype|설명|\n",
        "|:---:|:--:|\n",
        "|int64|정수|\n",
        "|float64|소수|\n",
        "|object|텍스트|\n",
        "|bool|불린(참과 거짓)|\n",
        "|datetime64|날짜와 시간|\n",
        "|category|카테고리|\n"
      ]
    },
    {
      "cell_type": "markdown",
      "metadata": {
        "id": "5qy4KaxCmVCE"
      },
      "source": [
        "- pandas로 데이터 읽어들이기\n",
        "    - csv : Comma-separated values, 값들이 쉼표로 나눠져 있는 파일\n",
        "    - 많이 활용되는 파일 형식이다."
      ]
    },
    {
      "cell_type": "code",
      "metadata": {
        "colab": {
          "base_uri": "https://localhost:8080/",
          "height": 269
        },
        "id": "_JHjMcbQmX8c",
        "outputId": "bb7ad857-a2c5-4a1b-8fa0-a62b13744770"
      },
      "source": [
        "#import pandas as pd\n",
        "#import numpy as np\n",
        "\n",
        "# read_csv 기본함수는 첫 번째 줄을 header로 변환해준다.\n",
        "# iphone_df = pd.read_csv('경로', header=None, index_col = 0) \n",
        "# index_col = 0은 index 이름 지정하는 것\n",
        "iphone_df = pd.read_csv('/content/iphone.csv', index_col = 0)  # colab 데이터에 입력하기\n",
        "iphone_df"
      ],
      "execution_count": 30,
      "outputs": [
        {
          "output_type": "execute_result",
          "data": {
            "text/html": [
              "<div>\n",
              "<style scoped>\n",
              "    .dataframe tbody tr th:only-of-type {\n",
              "        vertical-align: middle;\n",
              "    }\n",
              "\n",
              "    .dataframe tbody tr th {\n",
              "        vertical-align: top;\n",
              "    }\n",
              "\n",
              "    .dataframe thead th {\n",
              "        text-align: right;\n",
              "    }\n",
              "</style>\n",
              "<table border=\"1\" class=\"dataframe\">\n",
              "  <thead>\n",
              "    <tr style=\"text-align: right;\">\n",
              "      <th></th>\n",
              "      <th>출시일</th>\n",
              "      <th>디스플레이</th>\n",
              "      <th>메모리</th>\n",
              "      <th>출시 버전</th>\n",
              "      <th>Face ID</th>\n",
              "    </tr>\n",
              "  </thead>\n",
              "  <tbody>\n",
              "    <tr>\n",
              "      <th>iPhone 7</th>\n",
              "      <td>2016-09-16</td>\n",
              "      <td>4.7</td>\n",
              "      <td>2GB</td>\n",
              "      <td>iOS 10.0</td>\n",
              "      <td>No</td>\n",
              "    </tr>\n",
              "    <tr>\n",
              "      <th>iPhone 7 Plus</th>\n",
              "      <td>2016-09-16</td>\n",
              "      <td>5.5</td>\n",
              "      <td>3GB</td>\n",
              "      <td>iOS 10.0</td>\n",
              "      <td>No</td>\n",
              "    </tr>\n",
              "    <tr>\n",
              "      <th>iPhone 8</th>\n",
              "      <td>2017-09-22</td>\n",
              "      <td>4.7</td>\n",
              "      <td>2GB</td>\n",
              "      <td>iOS 11.0</td>\n",
              "      <td>No</td>\n",
              "    </tr>\n",
              "    <tr>\n",
              "      <th>iPhone 8 Plus</th>\n",
              "      <td>2017-09-22</td>\n",
              "      <td>5.5</td>\n",
              "      <td>3GB</td>\n",
              "      <td>iOS 11.0</td>\n",
              "      <td>No</td>\n",
              "    </tr>\n",
              "    <tr>\n",
              "      <th>iPhone X</th>\n",
              "      <td>2017-11-03</td>\n",
              "      <td>5.8</td>\n",
              "      <td>3GB</td>\n",
              "      <td>iOS 11.1</td>\n",
              "      <td>Yes</td>\n",
              "    </tr>\n",
              "    <tr>\n",
              "      <th>iPhone XS</th>\n",
              "      <td>2018-09-21</td>\n",
              "      <td>5.8</td>\n",
              "      <td>4GB</td>\n",
              "      <td>iOS 12.0</td>\n",
              "      <td>Yes</td>\n",
              "    </tr>\n",
              "    <tr>\n",
              "      <th>iPhone XS Max</th>\n",
              "      <td>2018-09-21</td>\n",
              "      <td>6.5</td>\n",
              "      <td>4GB</td>\n",
              "      <td>iOS 12.0</td>\n",
              "      <td>Yes</td>\n",
              "    </tr>\n",
              "  </tbody>\n",
              "</table>\n",
              "</div>"
            ],
            "text/plain": [
              "                      출시일  디스플레이  메모리     출시 버전 Face ID\n",
              "iPhone 7       2016-09-16    4.7  2GB  iOS 10.0      No\n",
              "iPhone 7 Plus  2016-09-16    5.5  3GB  iOS 10.0      No\n",
              "iPhone 8       2017-09-22    4.7  2GB  iOS 11.0      No\n",
              "iPhone 8 Plus  2017-09-22    5.5  3GB  iOS 11.0      No\n",
              "iPhone X       2017-11-03    5.8  3GB  iOS 11.1     Yes\n",
              "iPhone XS      2018-09-21    5.8  4GB  iOS 12.0     Yes\n",
              "iPhone XS Max  2018-09-21    6.5  4GB  iOS 12.0     Yes"
            ]
          },
          "metadata": {},
          "execution_count": 30
        }
      ]
    },
    {
      "cell_type": "code",
      "metadata": {
        "colab": {
          "base_uri": "https://localhost:8080/"
        },
        "id": "n576Ppk9nK56",
        "outputId": "bff0a5d7-cf70-43f6-d3c8-e5978f69e75f"
      },
      "source": [
        "type(iphone_df)"
      ],
      "execution_count": 28,
      "outputs": [
        {
          "output_type": "execute_result",
          "data": {
            "text/plain": [
              "pandas.core.frame.DataFrame"
            ]
          },
          "metadata": {},
          "execution_count": 28
        }
      ]
    }
  ]
}

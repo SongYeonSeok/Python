{
  "nbformat": 4,
  "nbformat_minor": 0,
  "metadata": {
    "colab": {
      "name": "프로젝트_로또 시뮬레이션.ipynb",
      "provenance": [],
      "collapsed_sections": [],
      "authorship_tag": "ABX9TyP3R7o8CJsF+U/HSkuc9tt/"
    },
    "kernelspec": {
      "name": "python3",
      "display_name": "Python 3"
    },
    "language_info": {
      "name": "python"
    }
  },
  "cells": [
    {
      "cell_type": "markdown",
      "metadata": {
        "id": "k8dERmvFPx2N"
      },
      "source": [
        "## 로또 시뮬레이션 : 프로젝트 소개"
      ]
    },
    {
      "cell_type": "markdown",
      "metadata": {
        "id": "n5P4O4bWQB1Q"
      },
      "source": [
        "## 규칙\n",
        "로또는 주 1회씩 열린다. 하지만 한 사람이 한 회차에 여러 번 참여할 수도 있다.\n",
        "\n",
        "번호는 1부터 45까지 있는데, 주최측에서는 매주 6개의 '일반 당첨 번호'와 1개의 '보너스 번호'를 뽑습니다. 그리고 참가자는 1번 참여할 때마다 서로 다른 번호 6개를 선택한다.\n",
        "\n",
        "당첨 액수는 아래 규칙에 따라 결정된다.\n",
        "\n",
        "    1. 내가 뽑은 번호 6개와 일반 당첨 번호 6개 모두 일치 (10억 원)\n",
        "    2. 내가 뽑은 번호 5개와 일반 당첨 번호 5개 일치, 그리고 내 번호 1개와 보너스 번호 일치 (5천만 원)\n",
        "    3. 내가 뽑은 번호 5개와 일반 당첨 번호 5개 일치 (100만 원)\n",
        "    4. 내가 뽑은 번호 4개와 일반 당첨 번호 4개 일치 (5만 원)\n",
        "    5. 내가 뽑은 번호 3개와 일반 당첨 번호 3개 일치 (5천 원)"
      ]
    },
    {
      "cell_type": "markdown",
      "metadata": {
        "id": "A6O4osqxQjKp"
      },
      "source": [
        "## 과제 설명\n",
        "로또 시뮬레이션을 위한 함수들을 작성하는 것"
      ]
    },
    {
      "cell_type": "markdown",
      "metadata": {
        "id": "zPeQ45_mQ7Fk"
      },
      "source": [
        "### generate_numbers\n",
        "이 함수는 파라미터로 정수 n을 받는다. \n",
        "무작위로 1과 45 사이의 서로 다른 번호 n개를 뽑고, 그 번호들이 담긴 리스트를 리턴한다.\n",
        "\n",
        "예를 들어서 아래 코드를 실행하면,\n",
        "```\n",
        "print(generate_numbers(6))\n",
        "```\n",
        "\n",
        "이런 결과가 나올 수 있습니다.\n",
        "```\n",
        "[16, 2, 30, 40, 15, 33]\n",
        "```\n",
        "\n",
        "하지만 다시 실행하면 다른 결과가 나올 것이다.\n",
        "\n",
        "참고로 이 함수는 참가자의 번호를 뽑는 데에도 쓰이고, 보너스를 포함한 당첨 번호 7개를 뽑는 데에도 쓰인다."
      ]
    },
    {
      "cell_type": "markdown",
      "metadata": {
        "id": "cy--2NQ4RTfy"
      },
      "source": [
        "### draw_wining_numbers\n",
        "일반 당첨 번호 6개와 보너스 번호 1개가 포함된 리스트를 리턴합니다.\n",
        "일반 당첨 번호 6개는 정렬되어 있어야 하고, 보너스 번호는 마지막에 추가하면 됩니다.\n",
        "\n",
        "예를 들어서 아래 코드를 실행하면,\n",
        "```\n",
        "print(draw_winning_numbers())\n",
        "```\n",
        "\n",
        "이런 결과가 나올 수 있습니다.\n",
        "```\n",
        "[4, 12, 14, 28, 40, 41, 6]\n",
        "```\n",
        "앞서 정의한 **generate_numbers**함수를 잘 활용하면, 함수를 간결하게 작성할 수 있습니다.\n"
      ]
    },
    {
      "cell_type": "markdown",
      "metadata": {
        "id": "983xXF11Rspy"
      },
      "source": [
        "### count_matching_numbers\n",
        "\n",
        "파라미터로 리스트 ```list_1```과 리스트 ```list_2```를 받고, 두 리스트 사이에 겹치는 번호 개수를 리턴합니다.\n",
        "\n",
        "예를 들어서 아래 코드를 실행하면,\n",
        "```\n",
        "print(count_matching_numbers([2, 7, 11, 14, 25, 40], [2, 11, 13, 14, 30, 35]))\n",
        "```\n",
        "**2, 11, 13**이 겹치기 때문에 이렇게 나옵니다.\n",
        "```\n",
        "3\n",
        "```\n",
        "\n",
        "또 아래 코드를 실행하면,\n",
        "```\n",
        "print(count_matching_numbers([2, 7, 11, 14, 25, 40], [14]))\n",
        "```\n",
        "**14**가 겹치기 때문에 이렇게 나올 것이다.\n",
        "```\n",
        "1\n",
        "```"
      ]
    },
    {
      "cell_type": "markdown",
      "metadata": {
        "id": "Eyw_SnzMSySr"
      },
      "source": [
        "### check\n",
        "참가자의 당첨 금액을 리턴한다.\n",
        "파라미터로 참가자가 뽑은 번호가 담긴 리스트 ```numbers```와 주최측에서 뽑은 번호가 담긴 리스트 ```winning_numbers```를 받는데, ```numbers```는 당연히 번호 여섯 개를 담고 있고, ```winning_numbers```는 보너스까지 해서 번호 7개를 담고 있을 것이다.\n",
        "\n",
        "예를 들어서 아래 코드를 실행하면,\n",
        "```\n",
        "numbers_test = [2, 4, 11, 14, 25, 40]\n",
        "winning_numbers_test = [4, 12, 14, 28, 40, 41, 6]\n",
        "\n",
        "print(check(numbers_test, winning_numbers_test))\n",
        "```\n",
        "\n",
        "**4, 14, 40...** 이렇게 번호 3개가 겹치기 때문에 5천 원에 당첨됩니다.\n",
        "```\n",
        "5000\n",
        "```"
      ]
    },
    {
      "cell_type": "markdown",
      "metadata": {
        "id": "Rb4_L5LhP0kn"
      },
      "source": [
        "## 로또 시뮬레이션: 번호 뽑기"
      ]
    },
    {
      "cell_type": "code",
      "metadata": {
        "colab": {
          "base_uri": "https://localhost:8080/"
        },
        "id": "PvHBDbzbTbJf",
        "outputId": "bff7cb97-21c4-4875-ac19-156d72ff8ace"
      },
      "source": [
        "# generate_numbers 함수 만들기\n",
        "\n",
        "from random import randint\n",
        "\n",
        "def generate_numbers(n):\n",
        "    numbers = list()\n",
        "\n",
        "    while len(numbers) < n:\n",
        "        num = randint(1, 45)\n",
        "        if num not in numbers:\n",
        "            numbers.append(num)\n",
        "\n",
        "    return numbers\n",
        "\n",
        "\n",
        "# test\n",
        "test = 6\n",
        "print(f\"result = {generate_numbers(test)}\")"
      ],
      "execution_count": null,
      "outputs": [
        {
          "output_type": "stream",
          "name": "stdout",
          "text": [
            "result = [9, 43, 25, 12, 39, 2]\n",
            "<class 'list'>\n"
          ]
        }
      ]
    },
    {
      "cell_type": "markdown",
      "metadata": {
        "id": "nunm1gN6Un5m"
      },
      "source": [
        "### 해설\n"
      ]
    },
    {
      "cell_type": "markdown",
      "metadata": {
        "id": "a9dWHeEbU98s"
      },
      "source": [
        "* 1과 45 사이의 번호 n개를 무작위로 뽑아야 하는데, 빈 리스트를 먼저 만들자.\n",
        "```\n",
        "numbers = []\n",
        "```\n",
        "\n",
        "* 우리는 총 n개의 번호를 추가하고 싶은 것이니까, numbers 리스트에 값이 n개 미만인 동안 반복문을 돌 것이다.\n",
        "```\n",
        "while len(numbers) < n;\n",
        "```\n",
        "\n",
        "* 그리고 **while**문의 수행 부분에서 리스트에 번호를 추가하면 되는데요, 번호를 무작위로 뽑는 건 **randint** 함수를 사용하면 된다.\n",
        "```\n",
        "while len(numbers) < n:\n",
        "    num = randint(1, 45)\n",
        "```\n",
        "\n",
        "* 주의해야 할 점이 있습니다. 이 new_numbers를 무작정 추가하면, 리스트에 중복값이 들어갈 수도 있습니다. \n",
        "new_number가 numbers 리스트에 없는 경우에만 추가를 해야 한다!\n",
        "\n",
        "* 그 후에 numbers를 return하면 된다.\n",
        "\n",
        "```\n",
        "while len(numbers) < n:\n",
        "    num = randint(1, 45)\n",
        "    if num not in numbers:\n",
        "        numbers.append(num)\n",
        "```\n",
        "\n",
        "* 최종\n",
        "\n",
        "```\n",
        "from random import randint as rd\n",
        "\n",
        "def generate_numbers(n):\n",
        "    numbers = []   # 반환할 번호 목록\n",
        "\n",
        "    while len(numbers) < n:\n",
        "        num = rd(1, 45) # 1 ~ 45 번호 뽑기\n",
        "        if num not in numbers: # num이 중복되지 않는다면 추가한다.\n",
        "            numbers.append(num)\n",
        "    \n",
        "    return numbers\n",
        "\n",
        "```"
      ]
    },
    {
      "cell_type": "markdown",
      "metadata": {
        "id": "xANKtUkDP2gz"
      },
      "source": [
        "## 로또 시뮬레이션 : 당첨 번호 뽑기"
      ]
    },
    {
      "cell_type": "code",
      "metadata": {
        "colab": {
          "base_uri": "https://localhost:8080/"
        },
        "id": "idkD6NKnZb52",
        "outputId": "92ac449b-f56a-4ffd-9c6b-0031d6847623"
      },
      "source": [
        "from random import randint as rd\n",
        "\n",
        "\n",
        "def generate_numbers(n):\n",
        "    # 지난 과제의 코드를 붙여 넣으세요.\n",
        "    numbers = list()\n",
        "    \n",
        "    while len(numbers) < n:\n",
        "        num = rd(1, 45)\n",
        "        if num not in numbers:\n",
        "            numbers.append(num)\n",
        "\n",
        "    return numbers\n",
        "    \n",
        "    \n",
        "def draw_winning_numbers(): \n",
        "    # 코드를 작성하세요.\n",
        "    numbers = generate_numbers(6)\n",
        "    numbers.sort()\n",
        "\n",
        "    bonus = rd(1, 45)\n",
        "    if bonus not in numbers:\n",
        "        numbers.append(bonus)\n",
        "    return numbers\n",
        "    \n",
        "\n",
        "# test\n",
        "print(draw_winning_numbers())"
      ],
      "execution_count": null,
      "outputs": [
        {
          "output_type": "stream",
          "name": "stdout",
          "text": [
            "[1, 13, 15, 19, 32, 37, 12]\n"
          ]
        }
      ]
    },
    {
      "cell_type": "markdown",
      "metadata": {
        "id": "MUNK28jMbSlq"
      },
      "source": [
        "### 해설"
      ]
    },
    {
      "cell_type": "markdown",
      "metadata": {
        "id": "JYBVIIgJbTeG"
      },
      "source": [
        "우선 일반 번호 7개를 뽑는다. generate_numbers 함수를 써서 하면 된다.\n",
        "\n",
        "```\n",
        "winning_numbers = generate_numbers(7)\n",
        "```\n",
        "\n",
        "7개의 요소 중, 첫 6개는 일반 당첨 번호이고, 마지막 1개는 보너스 번호이다. 그러면 첫 6개만 정렬하면 된다.\n",
        "\n",
        "첫 6개만 정렬하는 방식은 여러 가지가 있을 것인데, 그 중에 한 가지 방법만 보여줄 것이다.\n",
        "\n",
        "    1. 리스트 슬라이싱을 이용해서, 일반 당첨 번호(첫 6개)와 보너스 번호(마지막 1개)를 분리한다.\n",
        "    2. sorted 함수를 사용해서 일반 당첨 번호만 정렬한다.\n",
        "    3. 일반 당첨번호와 보너스 번호를 다시 합친다.\n",
        "\n",
        "결과물\n",
        "``` \n",
        "winning_numbers = generate_numbers(7)\n",
        "return sorted(winning_numbers[:6]) + winning_numbers[6:]\n",
        "```"
      ]
    },
    {
      "cell_type": "code",
      "metadata": {
        "colab": {
          "base_uri": "https://localhost:8080/"
        },
        "id": "u5iJ-Ls_cAhf",
        "outputId": "4818216b-8965-4eb9-f294-8d17a6667004"
      },
      "source": [
        "# 다시 풀기\n",
        "from random import randint as rd\n",
        "\n",
        "\n",
        "def generate_numbers(n):\n",
        "    # 지난 과제의 코드를 붙여 넣으세요.\n",
        "    numbers = list()\n",
        "    \n",
        "    while len(numbers) < n:\n",
        "        num = rd(1, 45)\n",
        "        if num not in numbers:\n",
        "            numbers.append(num)\n",
        "\n",
        "    return numbers\n",
        "    \n",
        "def draw_winning_numbers(): \n",
        "    winning_numbers = generate_numbers(7)\n",
        "    return sorted(winning_numbers[:6]) + winning_numbers[6:]\n",
        "\n",
        "print(draw_winning_numbers())"
      ],
      "execution_count": null,
      "outputs": [
        {
          "output_type": "stream",
          "name": "stdout",
          "text": [
            "[15, 17, 18, 20, 25, 43, 37]\n"
          ]
        }
      ]
    },
    {
      "cell_type": "markdown",
      "metadata": {
        "id": "a49H--jLP4h7"
      },
      "source": [
        "## 로또 시뮬레이션 : 겹치는 번호 개수"
      ]
    },
    {
      "cell_type": "code",
      "metadata": {
        "colab": {
          "base_uri": "https://localhost:8080/"
        },
        "id": "tvxVAIQ5dEL2",
        "outputId": "41727f32-e577-447b-e86d-a8020e9117f3"
      },
      "source": [
        "def count_matching_numbers(list_1, list_2): \n",
        "    # 코드를 작성하세요.\n",
        "    num = 0     # 출력할 결과 값\n",
        "\n",
        "    for i in list_1:\n",
        "        for j in list_2:\n",
        "            if i == j:\n",
        "                num += 1\n",
        "    \n",
        "    return num\n",
        "\n",
        "# list_1 : numbers:\n",
        "# list_2 : winning_numbers:\n",
        "\n",
        "# 해설\n",
        "def count_matching_numbers(list_1, list_2):\n",
        "    # 코드를 작성하세요.\n",
        "    num = 0     # 출력할 결과 값\n",
        "\n",
        "    for n in list_1:\n",
        "        if n in list_2:\n",
        "            num += 1\n",
        "\n",
        "    return num\n",
        "\n",
        "# 개선법 (교집합 사용)\n",
        "def count_matching_numbers(numbers, winning_numbers):\n",
        "    return len(set(numbers).intersection(winning_numbers))\n",
        "\n",
        "# 테스트\n",
        "print(count_matching_numbers([2, 7, 11, 14, 25, 40], [2, 11, 13, 14, 30, 35]))\n",
        "print(count_matching_numbers([2, 7, 11, 14, 25, 40], [14]))"
      ],
      "execution_count": null,
      "outputs": [
        {
          "output_type": "stream",
          "name": "stdout",
          "text": [
            "3\n",
            "1\n",
            "[3, 4, 5]\n",
            "[6]\n"
          ]
        }
      ]
    },
    {
      "cell_type": "markdown",
      "metadata": {
        "id": "88GYsn_wP54I"
      },
      "source": [
        "## 로또 시뮬레이션 : 당첨금 확인"
      ]
    },
    {
      "cell_type": "code",
      "metadata": {
        "colab": {
          "base_uri": "https://localhost:8080/"
        },
        "id": "G5Ypb1h6h5Lh",
        "outputId": "d3b7b110-6067-4fca-d298-86797429db17"
      },
      "source": [
        "def count_matching_numbers(numbers, winning_numbers):\n",
        "    # 지난 과제의 코드를 붙여 넣으세요.\n",
        "    return len(set(numbers).intersection(winning_numbers))\n",
        "\n",
        "def check(numbers, winning_numbers):\n",
        "    # 코드를 작성하세요.\n",
        "    reward = [5000, 50000, 1000000, 50000000, 1000000000]\n",
        "    normal_num = count_matching_numbers(numbers, winning_numbers[:6])\n",
        "    bonus_num = count_matching_numbers(numbers, winning_numbers[6:])\n",
        "    \n",
        "    if normal_num == 6:\n",
        "        return reward[4]\n",
        "    elif normal_num == 5 and bonus_num == 1:\n",
        "        return reward[3]\n",
        "    elif normal_num in list(range(3,6)):\n",
        "        return reward[normal_num - 3]\n",
        "    else:  \n",
        "        return 0\n",
        "        \n",
        "\n",
        "\n",
        "# 테스트\n",
        "print(check([2, 4, 11, 14, 25, 40], [4, 12, 14, 28, 40, 41, 6]))\n",
        "print(check([2, 4, 11, 14, 25, 40], [2, 4, 10, 11, 14, 40, 25]))"
      ],
      "execution_count": null,
      "outputs": [
        {
          "output_type": "stream",
          "name": "stdout",
          "text": [
            "5000\n",
            "50000000\n"
          ]
        }
      ]
    },
    {
      "cell_type": "code",
      "metadata": {
        "colab": {
          "base_uri": "https://localhost:8080/"
        },
        "id": "RNEAzg8Bh7WM",
        "outputId": "aa3ac45e-6c2c-444c-fa90-cd8ab5bece77"
      },
      "source": [
        "# 모범 답안\n",
        "def count_matching_numbers(numbers, winning_numbers):\n",
        "    # 지난 과제의 코드를 붙여 넣으세요.\n",
        "    return len(set(numbers).intersection(winning_numbers))\n",
        "\n",
        "def check(numbers, winning_numbers):\n",
        "    # 코드를 작성하세요.\n",
        "    normal_num = count_matching_numbers(numbers, winning_numbers[:6])\n",
        "    bonus_num = count_matching_numbers(numbers, winning_numbers[6:])\n",
        "    \n",
        "    if normal_num == 6:\n",
        "        return 1000000000\n",
        "    elif normal_num == 5 and bonus_num == 1:\n",
        "        return 50000000\n",
        "    elif normal_num == 5:\n",
        "        return 1000000\n",
        "    elif normal_num == 4:\n",
        "        return 50000\n",
        "    elif normal_num == 3:\n",
        "        return 5000\n",
        "    else:\n",
        "        return 0\n",
        "\n",
        "\n",
        "\n",
        "# 테스트\n",
        "print(check([2, 4, 11, 14, 25, 40], [4, 12, 14, 28, 40, 41, 6]))\n",
        "print(check([2, 4, 11, 14, 25, 40], [2, 4, 10, 11, 14, 40, 25]))"
      ],
      "execution_count": null,
      "outputs": [
        {
          "output_type": "stream",
          "name": "stdout",
          "text": [
            "5000\n",
            "50000000\n"
          ]
        }
      ]
    },
    {
      "cell_type": "markdown",
      "metadata": {
        "id": "bq2GXmnkP7iV"
      },
      "source": [
        "## 로또 시뮬레이션 : 합치기"
      ]
    },
    {
      "cell_type": "code",
      "metadata": {
        "id": "7dWzOA_rieIp"
      },
      "source": [
        "# 최종 코드\n",
        "\n",
        "# generate_numbers 함수 만들기\n",
        "\n",
        "from random import randint as rd\n",
        "\n",
        "def generate_numbers(n):\n",
        "    numbers = list()\n",
        "\n",
        "    while len(numbers) < n:\n",
        "        num = rd(1, 45)\n",
        "        if num not in numbers:\n",
        "            numbers.append(num)\n",
        "\n",
        "    return numbers\n",
        "    \n",
        "def draw_winning_numbers(): \n",
        "    winning_numbers = generate_numbers(7)\n",
        "    return sorted(winning_numbers[:6]) + winning_numbers[6:]\n",
        "\n",
        "def count_matching_numbers(numbers, winning_numbers):\n",
        "    return len(set(numbers).intersection(winning_numbers))\n",
        "\n",
        "def check(numbers, winning_numbers):\n",
        "    # 코드를 작성하세요.\n",
        "    reward = [5000, 50000, 1000000, 50000000, 1000000000]\n",
        "    normal_num = count_matching_numbers(numbers, winning_numbers[:6])\n",
        "    bonus_num = count_matching_numbers(numbers, winning_numbers[6:])\n",
        "    \n",
        "    if normal_num == 6:\n",
        "        return reward[4]\n",
        "    elif normal_num == 5 and bonus_num == 1:\n",
        "        return reward[3]\n",
        "    elif normal_num in list(range(3,6)):\n",
        "        return reward[normal_num - 3]\n",
        "    else:  \n",
        "        return 0\n"
      ],
      "execution_count": null,
      "outputs": []
    },
    {
      "cell_type": "markdown",
      "metadata": {
        "id": "O8hxh1t-jUZr"
      },
      "source": [
        "### 합치기 : 모듈\n",
        "\n",
        "* 작성한 함수들을 모두 lottery.py라는 파일에 넣어주자.\n",
        "\n",
        "* 코드업에서 제공하는 lottery_driver.py 파일을 다운받아서 같은 폴더에 저장한다.\n",
        "\n",
        "* 이 파이썬 코드는 lottery.py모듈에 있는 함수들을 사용해서 로또 100장 시뮬레이션을 한 후, lottery.html이라는 파일을 생성합니다. 그러기 위해서는 우선 lottery.py와 lottery_driver.py를 같은 폴더에 넣어 주세요. 그리고 나서 lottery_driver.py 파일을 실행해 보세요. 그러면 아래 이미지에 나온 것처럼, lottery.html 파일이 생성될 것입니다.\n",
        "\n",
        "* HTML 파일은 웹사이트에 그림을 그려 주는 역할이라고 생각하시면 되는데요. 이 파일은 시뮬레이션 결과를 브라우저에서 시각적으로 보여 줍니다.\n",
        "\n",
        "* PyCharm을 사용하고 계신다면, lottery.html을 오른쪽 클릭한 후, Open in - Browser에 마우스를 올리고, 원하는 브라우저를 선택하여 결과를 출력하면 됩니다.\n"
      ]
    }
  ]
}
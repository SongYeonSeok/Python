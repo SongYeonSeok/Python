{
  "nbformat": 4,
  "nbformat_minor": 0,
  "metadata": {
    "colab": {
      "name": "프로젝트_숫자 야구.ipynb",
      "provenance": [],
      "collapsed_sections": [
        "Ffq5p3F5m3KR",
        "IzrcWQxKm4Zp"
      ],
      "authorship_tag": "ABX9TyNK8P60rGG+sNyLuLAPbcXd",
      "include_colab_link": true
    },
    "kernelspec": {
      "name": "python3",
      "display_name": "Python 3"
    },
    "language_info": {
      "name": "python"
    }
  },
  "cells": [
    {
      "cell_type": "markdown",
      "metadata": {
        "id": "view-in-github",
        "colab_type": "text"
      },
      "source": [
        "<a href=\"https://colab.research.google.com/github/SongYeonSeok/Python/blob/main/%ED%94%84%EB%A1%9C%EC%A0%9D%ED%8A%B8_%EC%88%AB%EC%9E%90_%EC%95%BC%EA%B5%AC.ipynb\" target=\"_parent\"><img src=\"https://colab.research.google.com/assets/colab-badge.svg\" alt=\"Open In Colab\"/></a>"
      ]
    },
    {
      "cell_type": "markdown",
      "metadata": {
        "id": "3OA7ZdYcmz-J"
      },
      "source": [
        "## 숫자 야구 : 프로젝트 소개"
      ]
    },
    {
      "cell_type": "markdown",
      "metadata": {
        "id": "RISwqGGznClF"
      },
      "source": [
        "### 규칙\n",
        "\n",
        "* 컴퓨터는 0과 9 사이의 서로 다른 숫자 3개를 무작위로 뽑습니다. \n",
        "예를 들어서 컴퓨터가 5, 2, 3을 뽑을 수도 있고, 6, 7, 4를 뽑을 수도 있는 거죠.\n",
        "\n",
        "* 사용자는 컴퓨터가 뽑은 숫자의 값과 위치를 맞추어야 합니다.\n",
        "\n",
        "* 컴퓨터는 사용자가 입력한 숫자 3개에 대해서, 아래의 규칙대로 스트라이크(S)와 볼(B)의 개수를 알려줍니다.\n",
        "    1. 숫자의 값과 위치가 모두 일치하면 S입니다.\n",
        "    2. 숫자의 값은 일치하지만 위치가 틀렸으면 B입니다.\n",
        "    3. 예를 들어 컴퓨터가 1, 2, 3을 뽑았다고 가정합시다. 사용자가 1, 3, 5를 입력하면, 1S(1의 값과 위치가 일치) 1B(3의 값만 일치)입니다.\n",
        "\n",
        "* 기회는 무제한입니다. 하지만 몇 번의 시도 끝에 맞췄는지 기록됩니다.\n",
        "\n",
        "* 3S(숫자 3개의 값과 위치를 모두 맞춘 경우)가 나오면 게임이 끝납니다."
      ]
    },
    {
      "cell_type": "markdown",
      "metadata": {
        "id": "DOITbTyCnrHf"
      },
      "source": [
        "### 진행 방식\n",
        "\n",
        "1. **\"0과 9 사이의 서로 다른 숫자 3개를 랜덤한 순서로 뽑았습니다.**가 출력됩니다.\n",
        "\n",
        "2. **\"숫자 3개를 하나씩 차례대로 입력하세요. \"**가 출력됩니다.\n",
        "\n",
        "3. **\"1번째 숫자를 입력하세요: \"**가 출력되고, 사용자로부터 입력을 받습니다.\n",
        "마찬가지로 **\"2번째 숫자를 입력하세요: \"**와 **\"3번째 숫자를 입력하세요: \"**가 출력되고, 사용자로부터 각각 입력을 받습니다. 만약 사용자가 중복되는 숫자를 입력하거나 범위에서 벗어나는 숫자를 입력하면, 사용자로부터 입력을 다시 받습니다.\n",
        "\n",
        "4. 사용자가 올바르게 숫자 3개를 입력하면, 규칙에 따라 ``\"*S *B\"``가 출력됩니다.\n",
        "\n",
        "5. 3S가 아닌 경우, 2번부터 다시 진행합니다.\n",
        "\n",
        "6. 사용자가 3S를 달성하면, **\"축하합니다. *번 만에 숫자 3개의 값과 위치르 모두 맞추셨습니다.\"**가 출력됩니다. 그리고 게임은 종료됩니다."
      ]
    },
    {
      "cell_type": "markdown",
      "metadata": {
        "id": "EHh5efWjouc-"
      },
      "source": [
        "게임 진행 예시\n",
        "```\n",
        "0과 9 사이의 서로 다른 숫자 3개를 랜덤한 순서로 뽑았습니다.\n",
        "\n",
        "숫자 3개를 하나씩 차례대로 입력하세요.\n",
        "1번째 숫자를 입력하세요: 2\n",
        "2번째 숫자를 입력하세요: 2\n",
        "중복되는 숫자 입니다. 다시 입력하세요.\n",
        "2번째 숫자를 입력하세요: 11\n",
        "범위를 벗어나는 숫자입니다. 다시 입력하세요.\n",
        "2번째 숫자를 입력하세요: 3\n",
        "3번째 숫자를 입력하세요: 8\n",
        "1S 1B\n",
        "\n",
        "숫자 3개를 하나씩 차례대로 입력하세요.\n",
        "1번째 숫자를 입력하세요: 8\n",
        "2번째 숫자를 입력하세요: 2\n",
        "3번째 숫자를 입력하세요: 0\n",
        "1S 2B\n",
        "\n",
        "숫자 3개를 하나씩 차례대로 입력하세요.\n",
        "1번째 숫자를 입력하세요: 2\n",
        "2번째 숫자를 입력하세요: 8\n",
        "3번째 숫자를 입력하세요: 0\n",
        "3S 0B\n",
        "\n",
        "축하합니다. 3번 만에 숫자 3개의 값과 위치를 모두 맞추셨습니다.\n",
        "```"
      ]
    },
    {
      "cell_type": "markdown",
      "metadata": {
        "id": "Ffq5p3F5m3KR"
      },
      "source": [
        "## 숫자 야구 : 숫자 3개 뽑기"
      ]
    },
    {
      "cell_type": "markdown",
      "metadata": {
        "id": "P6g_KfwJpEgA"
      },
      "source": [
        "먼저 정답 숫자 3개를 뽑아 주는 generate_numbers 함수를 작성할 것입니다.\n",
        "\n",
        "### generate_numbers\n",
        "\n",
        "무작위로 0과 9 사이의 서로 다른 숫자 3개를 뽑고, 그 숫자들이 담긴 리스트를 리턴합니다.\n",
        "\n",
        "예를 들어서 아래 코드를 실행하면,\n",
        "\n",
        "```\n",
        "print(generate_numbers())\n",
        "```\n",
        "\n",
        "이런 결과가 나올 수 있습니다.\n",
        "```\n",
        "[5, 9, 2]\n",
        "```\n",
        "하지만 다시 실행하면 다른 결과가 나올 것이다."
      ]
    },
    {
      "cell_type": "code",
      "metadata": {
        "colab": {
          "base_uri": "https://localhost:8080/"
        },
        "id": "C9PJZLD6qONz",
        "outputId": "b3f52dd7-021f-42bc-9572-b67fcd44b1d1"
      },
      "source": [
        "from random import randint as rd\n",
        "\n",
        "def generate_numbers():\n",
        "    numbers = list()\n",
        "\n",
        "    while len(numbers) < 3:\n",
        "        num = rd(0, 9)\n",
        "        if num not in numbers:\n",
        "            numbers.append(num)\n",
        "\n",
        "    print(\"0과 9 사이의 서로 다른 숫자 3개를 랜덤한 순서로 뽑았습니다.\\n\")\n",
        "    return numbers\n",
        "\n",
        "print(generate_numbers())\n"
      ],
      "execution_count": 1,
      "outputs": [
        {
          "output_type": "stream",
          "name": "stdout",
          "text": [
            "0과 9 사이의 서로 다른 숫자 3개를 랜덤한 순서로 뽑았습니다.\n",
            "\n",
            "[7, 3, 6, 2]\n"
          ]
        }
      ]
    },
    {
      "cell_type": "markdown",
      "metadata": {
        "id": "BgisTbd4rtXl"
      },
      "source": [
        "#### 해설\n",
        "\n",
        "0과 9 사이의 숫자 3개를 무작위로 뽑아야 하는데, 숫자 야구 게임에서는 숫자의 \"순서\"도 중요하다. 여러 값을 순서에 맞게 보관해야 하니까, 리스트를 사용하면 된다\n",
        "\n",
        "1. 빈 리스트를 만드는 것부터 시작하다.\n",
        "\n",
        "```\n",
        "numbers = []\n",
        "```\n",
        "\n",
        "2. 우리는 총 6개의 숫자를 추가하고 싶은 것이니까, numbers 리스트에 값이 3개 미만인 동안 반복문을 돌겠습니다.\n",
        "\n",
        "```\n",
        "while len(numbers) < 3:\n",
        "```\n",
        "\n",
        "3. 그리고 while문의 수행 부분에서 리스트에 숫자를 추가하면 되는데요, 숫자를 무작위로 뽑는 건 randint 함수를 사용해서 하면 된다.\n",
        "\n",
        "```\n",
        "while len(numbers) < 3:\n",
        "    new_number = randint(0, 9)\n",
        "```\n",
        "\n",
        "4. 이제 여기서 조심해야 하는 것이, 이 new_number를 무작정 추가하면, 리스트에 중복값이 들어갈 수 있으므로 new_number이 numbers 리스트에 없는 경우에만 추가하도록 해야 한다. 반복문에서 나오면 numbers를 리턴하기만 하면 됩니다.\n",
        "\n",
        "```\n",
        "while len(numbers) < 3:\n",
        "    new_number = randint(0, 9)\n",
        "    if number not in numbers:\n",
        "        numbers.append(new_number)\n",
        "\n",
        "return numbers\n",
        "```"
      ]
    },
    {
      "cell_type": "markdown",
      "metadata": {
        "id": "IzrcWQxKm4Zp"
      },
      "source": [
        "## 숫자 야구 : 숫자 예측하기"
      ]
    },
    {
      "cell_type": "markdown",
      "metadata": {
        "id": "F02lTtshssmc"
      },
      "source": [
        "이번에는 유저에게 숫자 3개를 입력받는 take_guess 함수를 작성하겠습니다.\n",
        "\n",
        "### take_guess\n",
        "유저에게 숫자 3개를 반복적으로 입력받은 후, 유저가 입력한 숫자들을 리스트에 정리해서 리턴합니다.\n",
        "\n",
        "예를 들어서 아래 코드를 실행하면,\n",
        "```\n",
        "print(take_guess())\n",
        "```\n",
        "\n",
        "이런 출력 결과가 나올 수 있습니다.\n",
        "\n",
        "```\n",
        "숫자 3개를 하나씩 차례대로 입력하세요.\n",
        "1번째 숫자를 입력하세요: 5\n",
        "2번째 숫자를 입력하세요: 11\n",
        "범위를 벗어나는 숫자입니다. 다시 입력하세요.\n",
        "2번째 숫자를 입력하세요: 7\n",
        "3번째 숫자를 입력하세요: 5\n",
        "중복되는 숫자입니다. 다시 입력하세요.\n",
        "3번째 숫자를 입력하세요: 3\n",
        "[5, 7, 3]\n",
        "```\n",
        "\n",
        "보시다시피 유저가 범위에서 벗어나는 숫자를 입력하면, **\"범위를 벗어나는 숫자입니다. 다시 입력하세요.\"**라는 메시지가 출력되고 다시 입력을 받습니다.\n",
        "마찬가지로 유저가 이미 입력한 숫자를 다시 입력하면, **\"중복되는 숫자입니다. 다시 입력하세요.\"**라는 메시지가 출력되고 다시 입력을 받습니다.\n",
        "\n",
        "take_guess 함수는 결과적으로 리스트를 리턴해야 합니다. 기억해 주세요!"
      ]
    },
    {
      "cell_type": "code",
      "metadata": {
        "colab": {
          "base_uri": "https://localhost:8080/"
        },
        "id": "sRqqqs4Au02B",
        "outputId": "10f0454e-8024-4a3a-f53e-970803bed94c"
      },
      "source": [
        "def take_guess():\n",
        "    new_guess = []\n",
        "\n",
        "    print(\"숫자 3개를 하나씩 차례대로 입력하세요.\")\n",
        "    \n",
        "    num1 = int(input(\"1번째 숫자를 입력하세요: \"))\n",
        "    while True:\n",
        "        if num1 not in list(range(10)):\n",
        "            print(\"범위를 벗어나는 숫자입니다. 다시 입력하세요.\")\n",
        "            num1 = int(input(\"1번째 숫자를 입력하세요: \"))\n",
        "            continue\n",
        "        else:\n",
        "            break\n",
        "\n",
        "    new_guess.append(num1)  # 이상 없는 1번째 숫자 입력\n",
        "\n",
        "    num2 = int(input(\"2번째 숫자를 입력하세요: \"))\n",
        "    while True:\n",
        "        if num2 not in list(range(10)):\n",
        "            print(\"범위를 벗어나는 숫자입니다. 다시 입력하세요.\")\n",
        "            num2 = int(input(\"2번째 숫자를 입력하세요: \"))\n",
        "            continue\n",
        "        elif num2 in new_guess:\n",
        "            print(\"중복되는 숫자입니다. 다시 입력하세요.\")\n",
        "            num2 = int(input(\"2번째 숫자를 입력하세요: \"))\n",
        "            continue\n",
        "        else:\n",
        "            break\n",
        "    \n",
        "    new_guess.append(num2)  # 이상 없는 2번째 숫자 입력\n",
        "    \n",
        "    num3 = int(input(\"3번째 숫자를 입력하세요: \"))\n",
        "    while True:\n",
        "        if num3 not in list(range(10)):\n",
        "            print(\"범위를 벗어나는 숫자입니다. 다시 입력하세요.\")\n",
        "            num3 = int(input(\"3번째 숫자를 입력하세요: \"))\n",
        "            continue\n",
        "        elif num3 in new_guess:\n",
        "            print(\"중복되는 숫자입니다. 다시 입력하세요.\")\n",
        "            num3 = int(input(\"3번째 숫자를 입력하세요: \"))\n",
        "            continue\n",
        "        else:\n",
        "            break\n",
        "    \n",
        "    new_guess.append(num3)\n",
        "    \n",
        "    \n",
        "    # 코드를 작성하세요.\n",
        "    \n",
        "    return new_guess\n",
        "\n",
        "take_guess()"
      ],
      "execution_count": 7,
      "outputs": [
        {
          "name": "stdout",
          "output_type": "stream",
          "text": [
            "숫자 3개를 하나씩 차례대로 입력하세요.\n",
            "1번째 숫자를 입력하세요: 5\n",
            "2번째 숫자를 입력하세요: 11\n",
            "범위를 벗어나는 숫자입니다. 다시 입력하세요.\n",
            "2번째 숫자를 입력하세요: 5\n",
            "중복되는 숫자입니다. 다시 입력하세요.\n",
            "2번째 숫자를 입력하세요: 7\n",
            "3번째 숫자를 입력하세요: 5\n",
            "중복되는 숫자입니다. 다시 입력하세요.\n",
            "3번째 숫자를 입력하세요: 3\n"
          ]
        },
        {
          "output_type": "execute_result",
          "data": {
            "text/plain": [
              "[5, 7, 3]"
            ]
          },
          "metadata": {},
          "execution_count": 7
        }
      ]
    },
    {
      "cell_type": "markdown",
      "metadata": {
        "id": "j8ZnqUhK1anx"
      },
      "source": [
        "#### 과제 해설\n",
        "\n",
        "유저가 입력한 숫자 3개를 보관할 리스트를 먼저 정의합시다.\n",
        "```\n",
        "new_guess = []\n",
        "```\n",
        "\n",
        "우리는 이 리스트에 숫자 3개를 넣으려고 하는 거니까, 리스트에 숫자가 3개 미만인 경우 반복적으로 유저 입력을 받겠습니다.\n",
        "```\n",
        "while len(new_guess) < 3:\n",
        "```\n",
        "\n",
        "while문의 수행 부분에서는 무엇을 해야 할까요?\n",
        "    1. 유저에게 숫자를 입력받늗나.\n",
        "    2. 숫자가 0보다 작거나 9보다 크면, 범위에서 벗어난다는 메시지를 출력한다.\n",
        "    3. 숫자가 이미 리스트 new_guess에 있으면, 중복되는 숫자라는 메시지를 출력한다.\n",
        "    4. 범위에서 벗어나지도 않고 중복되지도 않으면, 숫자를 리스트 new_guess에 추가한다.\n",
        "\n",
        "이를 코드로 표현하면 이렇습니다.\n",
        "\n",
        "```\n",
        "while len(new_guess)<3:\n",
        "    new_num = int(input(\"{}번째 숫자를 입력하세요: \".format(len(new_guess)+1)))\n",
        "\n",
        "    if new_num < 0 or new_num > 9:\n",
        "        print(\"범위를 벗어나는 숫자입니다. 다시 입력하세요.\")\n",
        "    elif new_num in new_guess:\n",
        "        print(\"중복되는 숫자입니다. 다시 입력하세요.\")\n",
        "    else:\n",
        "        new_guess.append(new_num)\n",
        "```"
      ]
    },
    {
      "cell_type": "code",
      "metadata": {
        "colab": {
          "base_uri": "https://localhost:8080/"
        },
        "id": "KoF6kGHR2sNp",
        "outputId": "6b959171-3bc3-4fca-c98c-7c88a5704631"
      },
      "source": [
        "# 모범 답안\n",
        "\n",
        "def take_guess():\n",
        "    print(\"숫자 3개를 하나씩 차례로 입력하세요.\")\n",
        "\n",
        "    new_guess = list()\n",
        "    while len(new_guess) < 3:\n",
        "        new_num = int(input(f\"{len(new_guess) +1}번째 숫자를 입력하세요: \"))\n",
        "\n",
        "        if new_num < 0 or new_num > 9:\n",
        "            print(\"범위를 벗어나는 숫자입니다. 다시 입력하세요.\")\n",
        "        elif new_num in new_guess:\n",
        "            print(\"중복되는 숫자입니다. 다시 입력하세요.\")\n",
        "        else:\n",
        "            new_guess.append(new_num)\n",
        "\n",
        "    return new_guess\n",
        "\n",
        "take_guess()"
      ],
      "execution_count": 8,
      "outputs": [
        {
          "name": "stdout",
          "output_type": "stream",
          "text": [
            "숫자 3개를 하나씩 차례로 입력하세요.\n",
            "1번째 숫자를 입력하세요: 5\n",
            "2번째 숫자를 입력하세요: 5\n",
            "중복되는 숫자입니다. 다시 입력하세요.\n",
            "2번째 숫자를 입력하세요: 11\n",
            "범위를 벗어나는 숫자입니다. 다시 입력하세요.\n",
            "2번째 숫자를 입력하세요: 7\n",
            "3번째 숫자를 입력하세요: 7\n",
            "중복되는 숫자입니다. 다시 입력하세요.\n",
            "3번째 숫자를 입력하세요: 20\n",
            "범위를 벗어나는 숫자입니다. 다시 입력하세요.\n",
            "3번째 숫자를 입력하세요: 9\n"
          ]
        },
        {
          "output_type": "execute_result",
          "data": {
            "text/plain": [
              "[5, 7, 9]"
            ]
          },
          "metadata": {},
          "execution_count": 8
        }
      ]
    },
    {
      "cell_type": "markdown",
      "metadata": {
        "id": "PeJXy6Wom5qw"
      },
      "source": [
        "## 숫자 야구 : 점수 계산"
      ]
    },
    {
      "cell_type": "markdown",
      "metadata": {
        "id": "UToIKTgz3rwb"
      },
      "source": [
        "이제 스트라이크 수와 볼 수를 알려주는 get_score 함수를 작성할 것입니다.\n",
        "\n",
        "#### get_score\n",
        "이 함수는 두 개의 파라미터를 받는데요.\n",
        "\n",
        "1. guesses -> 유저가 뽑은 번호 3개가 담긴 리스트\n",
        "\n",
        "2. solution -> 컴퓨터가 뽑은 정답 번호 3개가 담긴 리스트\n",
        "\n",
        "두 리스트를 비교해서 스트라이크 수와 볼 수를 계산하고 리턴합니다.\n",
        "\n",
        "여기서 새로운 개념을 알려 드리겠슴돠. 파이썬에서 여러 값을 리턴하고 싶으면 이렇게 할 수 있다.\n",
        "\n",
        "```\n",
        "def square_and_cube(x):\n",
        "    square = x ** 2\n",
        "    cube = x ** 3\n",
        "    return square, cube\n",
        "```\n",
        "\n",
        "또한 여러 리턴 값을 한 번에 여러 변수에 저장할 수 있습니다. 아래와 같이 코드를 작성하면 square_and_cube(2)의 첫 번째 리턴 값이 변수 s에 저장되고, 두 번째 리턴 값이 변수 c에 저장됩니다.\n",
        "\n",
        "```\n",
        "s, c = square_and_cube(2)\n",
        "print(s)\n",
        "print(c)\n",
        "```\n",
        "\n",
        "* 실행 결과\n",
        "\n",
        "```\n",
        "4\n",
        "8\n",
        "```\n",
        "\n",
        "이런 식으로 get_score 함수는 스트라이크 수와 볼 수 둘 다 리턴하도록 해야 합니다.\n",
        "\n",
        "예를 들어서 아래 코드를 실행하면,\n",
        "\n",
        "```\n",
        "s, b = get_score([2, 7, 4], [2, 4, 7])\n",
        "print(s)   # 스트라이크 수 출력\n",
        "print(b)   # 볼 수 출력\n",
        "```\n",
        "\n",
        "2는 숫자의 값과 위치가 모두 일치하기 때문에 스트라이크입니다. 그리고 7과 4의 경우, 숫자의 값은 일치하지만 위치가 틀렸기 때문에 붙입니다.\n",
        "스트라이크 1개와 볼 2개이니까, 정수 1과 2를 모두 리턴해야 하는 것입니다.\n",
        "\n",
        "그러면 리턴된 값이 각각 변수 s와 b에 지정되어, 아래처럼 출력됩니다.\n",
        "\n",
        "```\n",
        "1\n",
        "2\n",
        "```"
      ]
    },
    {
      "cell_type": "code",
      "metadata": {
        "id": "6NsqWsHr5MHM"
      },
      "source": [
        "def get_score(guess, solution):\n",
        "    \n",
        "    # guesses : 유저가 뽑은 번호 3개가 담긴 리스트\n",
        "    # solution : 컴퓨터가 뽑은 정답 번호 3개가 담긴 리스트\n",
        "    \n",
        "    # 변수 초기화\n",
        "    strike_count = 0            \n",
        "    ball_count = 0\n",
        "\n",
        "    # 코드를 작성하세요.\n",
        "    \n",
        "    # strike_count\n",
        "    for i in range(len(guess)):\n",
        "        if guess[i] == solution[i]:\n",
        "            strike_count += 1\n",
        "        elif guess[i] in solution:\n",
        "            ball_count += 1\n",
        "            \n",
        "    return strike_count, ball_count\n",
        "\n",
        "\n",
        "# 테스트\n",
        "s_1, b_1 = get_score([2, 7, 4], [2, 4, 7])\n",
        "print(s_1, b_1)\n",
        "\n",
        "s_2, b_2 = get_score([7, 2, 4], [2, 4, 7])\n",
        "print(s_2, b_2)\n",
        "\n",
        "s_3, b_3 = get_score([0, 4, 7], [2, 4, 7])\n",
        "print(s_3, b_3)\n",
        "\n",
        "s_4, b_4 = get_score([2, 4, 7], [2, 4, 7])\n",
        "print(s_4, b_4)\n"
      ],
      "execution_count": null,
      "outputs": []
    },
    {
      "cell_type": "markdown",
      "metadata": {
        "id": "nvpUV9-O60jf"
      },
      "source": [
        "#### 과제 해설\n",
        "리스트 guess와 리스트 solution이 있습니다.\n",
        "스트라이크와 볼을 판단하는 방법을 각각 살펴봅시다.\n",
        "\n",
        "* 스트라이크 판단 방법\n",
        "\n",
        "    guess의 인덱스 i에 있는 숫자와 solution의 인덱스 i에 있는 숫자가 동일하면 스트라이크입니다. \n",
        "    이렇게 작성할 수 있습니다.\n",
        "\n",
        "    ```\n",
        "    for i in range(3):\n",
        "        if guess[i] == solution[i]:\n",
        "            strike_count += 1\n",
        "    ```\n",
        "\n",
        "* 볼 판단 방법\n",
        "\n",
        "    guess의 인덱스 i에 있는 숫자가 '볼'이기 위해서는 이 두 가지 조건을 충족해야 합니다.\n",
        "    \n",
        "        1. 이 숫자가 solution 안에도 있어야 한다.\n",
        "        2. 이 숫자가 solution의 인덱스 i에 있으면 안된다.\n",
        "    \n",
        "    그러면 코드를 이렇게 작성할 수 있습니다.\n",
        "\n",
        "    ```\n",
        "    for i in range(3):\n",
        "        if guess[i] in solution and guess[i] != solution[i]:\n",
        "            ball_count += 1\n",
        "    ```\n",
        "\n",
        "* 합치기\n",
        "\n",
        "스트라이크를 판단하는 코드와 볼은 판단하는 코드를 합쳐 봅시다.\n",
        "\n",
        "```\n",
        "for i in range(3):\n",
        "    if guess[i] == solution[i]:\n",
        "        strike_count += 1\n",
        "\n",
        "for i in range(3):\n",
        "    if guess[i] in solution and guess[i] != solution[i]:\n",
        "        ball_count += 1\n",
        "```\n",
        "\n",
        "하지만, 반복문을 한 번만 쓰면 효율적일 것이고, elif문을 쓰면 더 간단하게 표현이 가능하다.\n",
        "\n",
        "```\n",
        "for i in range(3):\n",
        "    if guess[i] == solution[i]:\n",
        "        strike_count += 1\n",
        "    elif guess[i] in solution:\n",
        "        ball_count += 1\n",
        "```\n",
        "\n",
        "모범 답안\n",
        "\n",
        "```\n",
        "def get_score(guess, solution):\n",
        "    strike_count = 0\n",
        "    ball_count = 0\n",
        "\n",
        "    for i in range(3):\n",
        "        if guess[i] == solution[i]:\n",
        "            strike_count += 1\n",
        "        elif guess[i] in solution:\n",
        "            ball_count += 1\n",
        "\n",
        "    return strike_count, ball_count\n",
        "```"
      ]
    },
    {
      "cell_type": "markdown",
      "metadata": {
        "id": "Vx-6gHi8m7N0"
      },
      "source": [
        "## 숫자 야구 : 합치기"
      ]
    },
    {
      "cell_type": "code",
      "metadata": {
        "colab": {
          "base_uri": "https://localhost:8080/"
        },
        "id": "wxpEix9R3lZY",
        "outputId": "2e525c6e-815d-4cd7-fc23-b6f231bac0df"
      },
      "source": [
        "from random import randint as rd\n",
        "\n",
        "def generate_numbers():\n",
        "    numbers = list()\n",
        "\n",
        "    while len(numbers) < 3:\n",
        "        num = rd(0, 9)\n",
        "        if num not in numbers:\n",
        "            numbers.append(num)\n",
        "\n",
        "    print(\"0과 9 사이의 서로 다른 숫자 3개를 랜덤한 순서로 뽑았습니다.\\n\")\n",
        "    return numbers\n",
        "\n",
        "def take_guess():\n",
        "    print(\"숫자 3개를 하나씩 차례로 입력하세요.\")\n",
        "\n",
        "    new_guess = list()\n",
        "    while len(new_guess) < 3:\n",
        "        new_num = int(input(f\"{len(new_guess) +1}번째 숫자를 입력하세요: \"))\n",
        "\n",
        "        if new_num < 0 or new_num > 9:\n",
        "            print(\"범위를 벗어나는 숫자입니다. 다시 입력하세요.\")\n",
        "        elif new_num in new_guess:\n",
        "            print(\"중복되는 숫자입니다. 다시 입력하세요.\")\n",
        "        else:\n",
        "            new_guess.append(new_num)\n",
        "\n",
        "    return new_guess\n",
        "\n",
        "\n",
        "def get_score(guess, solution):\n",
        "    \n",
        "    # guesses : 유저가 뽑은 번호 3개가 담긴 리스트\n",
        "    # solution : 컴퓨터가 뽑은 정답 번호 3개가 담긴 리스트\n",
        "    \n",
        "    # 변수 초기화\n",
        "    strike_count = 0            \n",
        "    ball_count = 0\n",
        "    num = len(guess) # 3\n",
        "\n",
        "    # 코드를 작성하세요.\n",
        "    \n",
        "    # strike_count\n",
        "    for i in range(num):\n",
        "        if guess[i] == solution[i]:\n",
        "            strike_count += 1\n",
        "        elif guess[i] in solution:\n",
        "            ball_count += 1\n",
        "            \n",
        "    return strike_count, ball_count\n",
        "\n",
        "# 여기서부터 게임 시작!\n",
        "ANSWER = generate_numbers()\n",
        "print(ANSWER)\n",
        "\n",
        "# 코드를 작성하세요.\n",
        "def baseball():\n",
        "    SELECT = take_guess()\n",
        "    tries = 1\n",
        "\n",
        "    while True:\n",
        "        strike_count, ball_count = get_score(SELECT, ANSWER)\n",
        "        print(f\"{strike_count}S {ball_count}B\")\n",
        "        print(tries)\n",
        "        if strike_count == 3:\n",
        "            return tries\n",
        "            break\n",
        "        else:\n",
        "            SELECT = take_guess()\n",
        "            tries += 1\n",
        "\n",
        "tries = baseball()\n",
        "print(f\"축하합니다. {tries}번 만에 숫자 3개의 값과 위치를 모두 맞추셨습니다.\")\n"
      ],
      "execution_count": 29,
      "outputs": [
        {
          "output_type": "stream",
          "name": "stdout",
          "text": [
            "0과 9 사이의 서로 다른 숫자 3개를 랜덤한 순서로 뽑았습니다.\n",
            "\n",
            "[2, 1, 9]\n",
            "숫자 3개를 하나씩 차례로 입력하세요.\n",
            "1번째 숫자를 입력하세요: 2\n",
            "2번째 숫자를 입력하세요: 3\n",
            "3번째 숫자를 입력하세요: 9\n",
            "2S 0B\n",
            "1\n",
            "숫자 3개를 하나씩 차례로 입력하세요.\n",
            "1번째 숫자를 입력하세요: 2\n",
            "2번째 숫자를 입력하세요: 4\n",
            "3번째 숫자를 입력하세요: 9\n",
            "2S 0B\n",
            "2\n",
            "숫자 3개를 하나씩 차례로 입력하세요.\n",
            "1번째 숫자를 입력하세요: 2\n",
            "2번째 숫자를 입력하세요: 1\n",
            "3번째 숫자를 입력하세요: 9\n",
            "3S 0B\n",
            "3\n",
            "축하합니다. 3번 만에 숫자 3개의 값과 위치를 모두 맞추셨습니다.\n"
          ]
        }
      ]
    },
    {
      "cell_type": "markdown",
      "metadata": {
        "id": "2h4FlyQ2D67d"
      },
      "source": [
        "#### 과제 해설\n",
        "우리가 써야 하는 코드의 틀을 먼저 구성해 봅시다.\n",
        "    1. 필요한 변수와 상수를 정의한다.\n",
        "    2. 반복적으로 유저에게 번호 입력을 받는다. 만약 스트라이크 3개가 나오면 게임을 종료한다.\n",
        "    3. 몇 번만에 맞췄는지 축하 메시지를 출력한다.\n",
        "\n",
        "* 변수, 상수 정의\n",
        "\n",
        "먼저 필요한 변수와 상수가 무엇인지 생각해 봅시다.\n",
        "    * 정답 리스트\n",
        "    * 시도 횟수 (0부터 시작)\n",
        "\n",
        "that`s it\n",
        "\n",
        "```\n",
        "ANSWER = generate_numbers()\n",
        "tries = 0\n",
        "```\n",
        "\n",
        "* 유저 입력 받기\n",
        "\n",
        "우리가 반복적으로 해야 하는 것들을 정리해 봅시다.\n",
        "\n",
        "    1. 유저에게 번호 3개를 입력받늗나.\n",
        "    2. 스트라이크 수와 볼 수를 센다.\n",
        "    3. ```*S *B```의 형태로 스트라이크 수와 볼 수를 출력한다.\n",
        "    4. 시도 횟수를 1 늘린다.\n",
        "    5. 만약 스트라이크 3개를 하면 반복문을 종료한다.\n",
        "\n",
        "코드로 작성하면 이렇습니다.\n",
        "\n",
        "```\n",
        "while True:\n",
        "    user_guess = take_guess()\n",
        "    s, b = get_score(user_guess, ANSWER)\n",
        "\n",
        "    print(f\"{s}S {b}B\\n\")\n",
        "    tries += 1\n",
        "\n",
        "    if s == 3:\n",
        "        break\n",
        "```\n",
        "\n",
        "보시다시피 조건 부분은 그냥 True라고 써서, 조건 부분을 통과 못할 일이 없습니다. 하지만, 수행 부분에서 s가 3인 경우 break를 했기 때문에, 반복문을 빠져나올 수 있습니다.\n",
        "\n",
        "조건 부분은 s != 3으로 했을 수도 있는데, 왜 굳이 이렇게 했을까요?\n",
        "\n",
        "조건 붑누을 s != 3로 하기 위해서는 s를 미리 정의해야 합니다. 그게 번거롭고 조금 지저분하다고 느껴져서, 위와 같은 방식을 택한 것입니다.\n",
        "\n",
        "* 축하 메시지 출력\n",
        "\n",
        "반복문을 나와서는 그냥 축하 메시지를 출력하면 됩니다.\n",
        "tries 변수를 이용해서 몇 번 만에 맞췄는지 알려 주는 것도 잊지 맙시다.\n",
        "\n",
        "```\n",
        "print(f\"축하합니다. {tries}번 만에 세 숫자의 값과 위치를 모두 맞추셨습니다.\"\n",
        "```\n"
      ]
    },
    {
      "cell_type": "code",
      "metadata": {
        "colab": {
          "base_uri": "https://localhost:8080/"
        },
        "id": "kgDdbOpXFVvK",
        "outputId": "384a49f3-7700-4624-b8ce-f9a587a14fa5"
      },
      "source": [
        "# 모범 답안\n",
        "from random import randint as rd\n",
        "\n",
        "def generate_numbers():\n",
        "    numbers = list()\n",
        "\n",
        "    while len(numbers) < 3:\n",
        "        num = rd(0, 9)\n",
        "        if num not in numbers:\n",
        "            numbers.append(num)\n",
        "\n",
        "    print(\"0과 9 사이의 서로 다른 숫자 3개를 랜덤한 순서로 뽑았습니다.\\n\")\n",
        "    return numbers\n",
        "\n",
        "def take_guess():\n",
        "    print(\"숫자 3개를 하나씩 차례로 입력하세요.\")\n",
        "\n",
        "    new_guess = list()\n",
        "    while len(new_guess) < 3:\n",
        "        new_num = int(input(f\"{len(new_guess) +1}번째 숫자를 입력하세요: \"))\n",
        "\n",
        "        if new_num < 0 or new_num > 9:\n",
        "            print(\"범위를 벗어나는 숫자입니다. 다시 입력하세요.\")\n",
        "        elif new_num in new_guess:\n",
        "            print(\"중복되는 숫자입니다. 다시 입력하세요.\")\n",
        "        else:\n",
        "            new_guess.append(new_num)\n",
        "\n",
        "    return new_guess\n",
        "\n",
        "\n",
        "def get_score(guess, solution):\n",
        "    \n",
        "    # guesses : 유저가 뽑은 번호 3개가 담긴 리스트\n",
        "    # solution : 컴퓨터가 뽑은 정답 번호 3개가 담긴 리스트\n",
        "    \n",
        "    # 변수 초기화\n",
        "    strike_count = 0            \n",
        "    ball_count = 0\n",
        "    num = len(guess) # 3\n",
        "\n",
        "    # 코드를 작성하세요.\n",
        "    \n",
        "    # strike_count\n",
        "    for i in range(num):\n",
        "        if guess[i] == solution[i]:\n",
        "            strike_count += 1\n",
        "        elif guess[i] in solution:\n",
        "            ball_count += 1\n",
        "            \n",
        "    return strike_count, ball_count\n",
        "\n",
        "# 여기서부터 게임 시작!\n",
        "ANSWER = generate_numbers()\n",
        "\n",
        "# 코드를 작성하세요.\n",
        "tries = 0\n",
        "\n",
        "while True:\n",
        "    select = take_guess()\n",
        "    strike_count, ball_count = get_score(select, ANSWER)\n",
        "\n",
        "    print(f\"{strike_count}S {ball_count}B\")\n",
        "    tries += 1\n",
        "\n",
        "    if strike_count == 3:\n",
        "        break\n",
        "\n",
        "print(f\"축하합니다. {tries}번 만에 숫자 3개의 값과 위치를 모두 맞추셨습니다.\")\n"
      ],
      "execution_count": 31,
      "outputs": [
        {
          "output_type": "stream",
          "name": "stdout",
          "text": [
            "0과 9 사이의 서로 다른 숫자 3개를 랜덤한 순서로 뽑았습니다.\n",
            "\n",
            "[6, 7, 4]\n",
            "숫자 3개를 하나씩 차례로 입력하세요.\n",
            "1번째 숫자를 입력하세요: 6\n",
            "2번째 숫자를 입력하세요: 7\n",
            "3번째 숫자를 입력하세요: 4\n",
            "3S 0B\n",
            "축하합니다. 1번 만에 숫자 3개의 값과 위치를 모두 맞추셨습니다.\n"
          ]
        }
      ]
    }
  ]
}